{
  "nbformat": 4,
  "nbformat_minor": 0,
  "metadata": {
    "colab": {
      "name": "HP_CHP_PtH_F.ipynb",
      "version": "0.3.2",
      "provenance": [],
      "collapsed_sections": []
    },
    "kernelspec": {
      "name": "python3",
      "display_name": "Python 3"
    }
  },
  "cells": [
    {
      "cell_type": "markdown",
      "metadata": {
        "id": "6P-xAfhAoeY_",
        "colab_type": "text"
      },
      "source": [
        "Install iapws"
      ]
    },
    {
      "cell_type": "code",
      "metadata": {
        "id": "F5pnnD_oodHx",
        "colab_type": "code",
        "colab": {}
      },
      "source": [
        "!pip install iapws graphviz"
      ],
      "execution_count": 0,
      "outputs": []
    },
    {
      "cell_type": "markdown",
      "metadata": {
        "id": "BkAU0ZspouO5",
        "colab_type": "text"
      },
      "source": [
        "all imports"
      ]
    },
    {
      "cell_type": "code",
      "metadata": {
        "id": "SZvE0-53Sz--",
        "colab_type": "code",
        "colab": {}
      },
      "source": [
        "import numpy as np\n",
        "import copy\n",
        "from enum import Enum\n",
        "from iapws import iapws97\n",
        "from graphviz import Digraph"
      ],
      "execution_count": 0,
      "outputs": []
    },
    {
      "cell_type": "markdown",
      "metadata": {
        "id": "4fgWLz4Ih2fi",
        "colab_type": "text"
      },
      "source": [
        "SI units"
      ]
    },
    {
      "cell_type": "code",
      "metadata": {
        "id": "2HU04Hsth8bm",
        "colab_type": "code",
        "colab": {}
      },
      "source": [
        "class SI:\n",
        "  SIpfx = {\n",
        "      'G': 10**9,\n",
        "      'M': 10**6,\n",
        "      'k': 10**3,\n",
        "      'h': 10**2,\n",
        "      'da': 10**1,\n",
        "      '1': 1,\n",
        "      'd': 10**-1,\n",
        "      'c': 10**-2,\n",
        "      'm': 10**-3,\n",
        "      'u': 10**-6,\n",
        "    }\n",
        "  \n",
        "  def prefix(pfx):\n",
        "    return SI.SIpfx.get(pfx)\n",
        "  \n",
        "  def fmt(value):\n",
        "    for pfx in SI.SIpfx:\n",
        "      sipow = SI.SIpfx.get(pfx)\n",
        "      if (np.log10(sipow) % 3 == 0):\n",
        "        if (pfx == \"1\"): pfx = \"\"\n",
        "        if abs(value) >= sipow: return \"%g %s\" % (value / sipow, pfx)"
      ],
      "execution_count": 0,
      "outputs": []
    },
    {
      "cell_type": "code",
      "metadata": {
        "id": "96RXb9cboZVQ",
        "colab_type": "code",
        "colab": {}
      },
      "source": [
        "class CIndent:\n",
        "  elem = \"  \"\n",
        "  \n",
        "  def __init__(self, ind = \"\"):\n",
        "    self.ind = ind\n",
        "    \n",
        "  def __str__(self):\n",
        "    return self.ind\n",
        "    \n",
        "  def __add__(self, other):\n",
        "    return self.ind + other\n",
        "    \n",
        "  def inc(self):\n",
        "    self.ind += CIndent.elem\n",
        "    \n",
        "  def dec(self):\n",
        "    self.ind = self.ind[0:-len(CIndent.elem)]\n",
        "\n",
        "  def reset(self):\n",
        "    self.ind = \"\"\n",
        "    \n",
        "cind = CIndent()"
      ],
      "execution_count": 0,
      "outputs": []
    },
    {
      "cell_type": "code",
      "metadata": {
        "id": "JOfoZG4OlAWB",
        "colab_type": "code",
        "colab": {}
      },
      "source": [
        "def isNone(*vars, strict = False):\n",
        "  if strict:\n",
        "    for var in vars:\n",
        "      if not (var is None): return False\n",
        "    return True\n",
        "  else:\n",
        "    for var in vars:\n",
        "      if (var is None): return True\n",
        "    return False\n",
        "  \n",
        "def dropNone(*vars):\n",
        "  ret = list()\n",
        "  for var in vars:\n",
        "    if not (var is None): ret.append(var)\n",
        "  return ret"
      ],
      "execution_count": 0,
      "outputs": []
    },
    {
      "cell_type": "markdown",
      "metadata": {
        "id": "WXLxMO4eoyYg",
        "colab_type": "text"
      },
      "source": [
        "Water properties"
      ]
    },
    {
      "cell_type": "code",
      "metadata": {
        "id": "3RlJbDvHTB0K",
        "colab_type": "code",
        "colab": {}
      },
      "source": [
        "pa = 101325/10**6 #MPa\n",
        "TK0 = 273.15\n",
        "\n",
        "def WaterCp(T):\n",
        "  return (iapws97._Region1(T+TK0, pa))[\"cp\"] * 1000 #J/(kg*K)\n",
        "\n",
        "def WaterDensity(T):\n",
        "  return 1/iapws97._Region1(T+TK0, pa)[\"v\"] #kg/m3"
      ],
      "execution_count": 0,
      "outputs": []
    },
    {
      "cell_type": "markdown",
      "metadata": {
        "id": "FquPQA74OHOE",
        "colab_type": "text"
      },
      "source": [
        "Definition of Class \"Heat-transfer fluid\""
      ]
    },
    {
      "cell_type": "code",
      "metadata": {
        "id": "_zdTAgXFP6mi",
        "colab_type": "code",
        "colab": {}
      },
      "source": [
        "class HTF:\n",
        "  def __init__(self, temperature = None, massflow = None, type = 'water'):\n",
        "    self.temperature = temperature\n",
        "    self.massflow = massflow\n",
        "    self.type = type.lower()\n",
        "    \n",
        "  def __str__(self, short = False):\n",
        "    if (short):\n",
        "      return '%g °C, %g m3/s' % (self.temperature, self.massflow)\n",
        "    else:\n",
        "      return '%s at %g °C, %g m3/s' % (self.type, self.temperature, self.massflow)\n",
        "  \n",
        "  def __eq__(self, other):\n",
        "    return ((self.type == other.type) and\n",
        "           (self.temperature == other.temperature) and\n",
        "           (self.massflow == other.massflow))\n",
        "  \n",
        "  def __gt__(self, other):\n",
        "    return ((self.type == other.type) and\n",
        "           (not isNone(self.temperature, other.temperature) and (self.temperature > other.temperature)) or\n",
        "           (not isNone(self.massflow, other.massflow) and (self.massflow > other.massflow)))\n",
        "  \n",
        "  def __lt__(self, other):\n",
        "    return ((self.type == other.type) and\n",
        "           (not isNone(self.temperature, other.temperature) and (self.temperature < other.temperature)) or\n",
        "           (not isNone(self.massflow, other.massflow) and (self.massflow < other.massflow)))\n",
        "  \n",
        "  def __add__(self, other):\n",
        "    if isNone(self.temperature, self.massflow, strict = True):\n",
        "      return HTF(other.temperature, other.massflow)\n",
        "    elif isNone(other.temperature, other.massflow, strict = True):\n",
        "      return HTF(self.temperature, self.massflow)\n",
        "    else:\n",
        "      print(cind + \"Mixing \" + str(self) + \" with \" + str(other), end=\"\")\n",
        "      temperature = (self.temperature * self.massflow +\n",
        "                        other.temperature * other.massflow) / (self.massflow + other.massflow)\n",
        "      massflow = self.massflow + other.massflow\n",
        "      htfout = HTF(temperature, massflow)\n",
        "      print(\" -> \" + str(htfout))\n",
        "      return htfout\n",
        "  \n",
        "  def __sub__(self, other):\n",
        "    if (self.temperature != other.temperature):\n",
        "      raise ValueError(\"temperatures should match to subtract the flows\")\n",
        "    return HTF(self.temperature, self.massflow - other.massflow)\n",
        "  \n",
        "  def min(self, other):\n",
        "    return HTF(min(dropNone(self.temperature, other.temperature)), min(dropNone(self.massflow, other.massflow)))\n",
        "  \n",
        "  def max(self, other):\n",
        "    return HTF(max(dropNone(self.temperature, other.temperature)), max(dropNone(self.massflow, other.massflow)))\n",
        "  \n",
        "  def getCp(self):\n",
        "    if self.type == 'water':\n",
        "      return(WaterCp(self.temperature))\n",
        "    else:\n",
        "      return 0\n",
        "    \n",
        "  def getDens(self):\n",
        "    if self.type == 'water':\n",
        "      return(WaterDensity(self.temperature))\n",
        "    else:\n",
        "      return 0"
      ],
      "execution_count": 0,
      "outputs": []
    },
    {
      "cell_type": "markdown",
      "metadata": {
        "id": "dmR7zUCIQBIJ",
        "colab_type": "text"
      },
      "source": [
        "Definition of Class \"Efficiency\""
      ]
    },
    {
      "cell_type": "code",
      "metadata": {
        "id": "t_F6pSAAQI2F",
        "colab_type": "code",
        "colab": {}
      },
      "source": [
        "class Efficiency:\n",
        "  def __init__(self, elecEff = 0, fuelEff = 0):\n",
        "    self.elecEff = elecEff\n",
        "    self.fuelEff = fuelEff"
      ],
      "execution_count": 0,
      "outputs": []
    },
    {
      "cell_type": "markdown",
      "metadata": {
        "id": "8bQ4eqmNQQit",
        "colab_type": "text"
      },
      "source": [
        "Definition of power classes"
      ]
    },
    {
      "cell_type": "code",
      "metadata": {
        "id": "wv6-lfMOQYEd",
        "colab_type": "code",
        "colab": {}
      },
      "source": [
        "class PowerType:\n",
        "  def __init__(self, value = 0, SIprefix = '1'):\n",
        "    self.value = value * SI.prefix(SIprefix)\n",
        "    \n",
        "  def __add__(self, other):\n",
        "    return type(self)(self.value + other.value)\n",
        "\n",
        "  def __sub__(self, other):\n",
        "    return type(self)(self.value - other.value)\n",
        "  \n",
        "  def __mul__(self, other):\n",
        "    return type(self)(self.value * other)\n",
        "  \n",
        "  def __str__(self):\n",
        "    return \"%s %sW\" % (type(self).__name__, SI.fmt(self.value))\n",
        "\n",
        "class ElecPower(PowerType):\n",
        "  pass\n",
        "\n",
        "class FuelPower(PowerType):\n",
        "  pass\n",
        "\n",
        "class Power:\n",
        "  def __init__(self, *pwr_values):\n",
        "    self.elecPower = ElecPower()\n",
        "    self.fuelPower = FuelPower()\n",
        "    for pwr in pwr_values:\n",
        "      if type(pwr) is ElecPower:\n",
        "        self.elecPower += pwr\n",
        "      elif type(pwr) is FuelPower:\n",
        "        self.fuelPower += pwr\n",
        "\n",
        "  def all(self):\n",
        "    return (self.elecPower.value + self.fuelPower.value)\n",
        "\n",
        "  # Multiplying Power by efficiency in forward task \n",
        "  def __mul__(self, other):\n",
        "    if type(other) is Efficiency:\n",
        "      return self.elecPower.value * other.elecEff + self.fuelPower.value * other.fuelEff\n",
        "    else:\n",
        "      return 0\n",
        "    \n",
        "  def __add__(self, other):\n",
        "    return Power(self.elecPower + other.elecPower, self.fuelPower + other.fuelPower)\n",
        "  \n",
        "  def __sub__(self, other):\n",
        "    return Power(self.elecPower - other.elecPower, self.fuelPower - other.fuelPower)\n",
        "  \n",
        "  def __str__(self):\n",
        "    val = \"\"\n",
        "    for pwr in [self.elecPower, self.fuelPower]:\n",
        "      if (pwr.value !=0):\n",
        "        if (val != \"\"): val += \", \"\n",
        "        val += str(pwr)\n",
        "    if (val != \"\"):\n",
        "      return val\n",
        "    else:\n",
        "      return \"None\"\n"
      ],
      "execution_count": 0,
      "outputs": []
    },
    {
      "cell_type": "markdown",
      "metadata": {
        "id": "SKvKCw_RQcY6",
        "colab_type": "text"
      },
      "source": [
        "Definition of heat transfer machines classes, definition forward task\n",
        "\n",
        "ToDo: definition reverse task, Heat Pump"
      ]
    },
    {
      "cell_type": "code",
      "metadata": {
        "id": "gkhaTuKQSpEu",
        "colab_type": "code",
        "colab": {}
      },
      "source": [
        "class EItem:\n",
        "  def __init__(self):\n",
        "    self.active = True\n",
        "    \n",
        "    self.pwr = None\n",
        "    self.pwr_factor = 1\n",
        "    self.htfin = None\n",
        "    self.htfout = None\n",
        "    \n",
        "    self.htfin_min = HTF()\n",
        "    self.htfin_max = HTF()\n",
        "    \n",
        "    self.htfout_min = HTF()\n",
        "    self.htfout_max = HTF()\n",
        "    \n",
        "    self.label = None"
      ],
      "execution_count": 0,
      "outputs": []
    },
    {
      "cell_type": "code",
      "metadata": {
        "id": "dZO2HFT1NwNx",
        "colab_type": "code",
        "colab": {}
      },
      "source": [
        "class EMachine(EItem):\n",
        "  # input values: Efficiency efficiency\n",
        "  def __init__(self, efficiency):\n",
        "    super().__init__()\n",
        "    \n",
        "    self.efficiency = efficiency\n",
        "    self.genEff = 0\n",
        "    \n",
        "    self.pwrin_min = 0\n",
        "    self.pwrin_max = 0\n",
        "\n",
        "  def gvRepr(self, graph):\n",
        "    with graph.subgraph(name = 'cluster_' + self.label) as c:\n",
        "      c.attr('node', shape='record')\n",
        "      c.attr(label = self.label)\n",
        "      #c.node(self.label, '{<IN>IN: ' + self.htfin.__str__(short = True) + '|' + str(self.pwr) + '|<OUT>OUT: ' + self.htfout.__str__(short = True) + '}')\n",
        "      c.node(self.label + '_IN', 'IN: ' + self.htfin.__str__(short = True))\n",
        "      c.node(self.label + '_OUT', 'OUT: ' + self.htfout.__str__(short = True))\n",
        "      c.node(self.label, self.label + ': ' + str(self.pwr))\n",
        "      c.edge(self.label + '_IN', self.label)\n",
        "      c.edge(self.label, self.label + '_OUT')\n",
        "    \n",
        "  # defined values: HTF htfin\n",
        "  # calculated values: Power pwr, HTF htfout\n",
        "  def forwardtask(self):\n",
        "    # power consumption\n",
        "    self.pwruse = Power(self.pwrin_max * self.pwr_factor)\n",
        "    # htf input with volume flow limited by htfin_max and htfout_max\n",
        "    self.htfin.massflow = min(dropNone(self.htfin.massflow, self.htfin_max.massflow, self.htfout_max.massflow))\n",
        "    \n",
        "    # htf output is an input...\n",
        "    self.htfout = HTF() + self.htfin\n",
        "    # ...plus temperature raise\n",
        "    self.htfout.temperature += self.pwruse * self.efficiency / (self.htfin.massflow * self.htfin.getDens() * self.htfin.getCp())\n",
        "    \n",
        "    # power generation\n",
        "    self.pwrgen = Power(ElecPower(self.pwruse.fuelPower.value * self.genEff))\n",
        "    \n",
        "    # power balance\n",
        "    self.pwr = self.pwrgen - self.pwruse\n",
        "\n",
        "  def splitOutput(pwr, efficiency):\n",
        "    elecPwr = ElecPower(pwr / efficiency.elecEff) if efficiency.elecEff != 0 else 0\n",
        "    fuelPwr = FuelPower(pwr / efficiency.fuelEff) if efficiency.fuelEff != 0 else 0\n",
        "    return Power(elecPwr, fuelPwr)\n",
        "    \n",
        "  # defined values: HTF htfin, HTF htfout\n",
        "  # calculated values: Power pwrin, Power pwrout\n",
        "  def reversetask(self):\n",
        "    pwr = (self.htfin.massflow * self.htfin.getDens() * self.htfin.getCp()) * (self.htfout.temperature - self.htfin.temperature)\n",
        "    self.pwrin = HTMachine.splitOutput(pwr, self.efficiency)\n",
        "    self.pwrout = Power(ElecPower(self.pwrin.fuelPower.value * self.genEff))\n",
        "  \n",
        "  def run(self):\n",
        "    if ((self.pwr_factor == 0) or (self.htfin.massflow == 0)):\n",
        "      self.active = False\n",
        "      \n",
        "    if (self.active):\n",
        "      print(cind + \"Running \" + type(self).__name__ + \" \" + self.label)\n",
        "      if (not isNone(self.htfin, self.htfout)):\n",
        "        print(cind + \"Attempting reverse task\")\n",
        "        self.reversetask()\n",
        "      elif (not isNone(self.htfin)):\n",
        "        print(cind + \"Attempting forward task\")\n",
        "        self.forwardtask()\n",
        "      else:\n",
        "        raise ValueError(\"not enough input for machine\")\n",
        "      print(cind + \"Input: \" + str(self.htfin) + \", output: \" + str(self.htfout))\n",
        "      print(cind + \"Energy balance: \" + str(self.pwr))\n",
        "    else:\n",
        "      print(cind + type(self).__name__ + \" \" + self.label + \" is not active\")\n",
        "      self.pwr = Power()\n",
        "      self.pwr_factor = 0\n",
        "      self.htfin = HTF()\n",
        "      self.htfout = HTF()\n",
        "       \n",
        "  \n",
        "# Power to heat\n",
        "class P2H_Machine(EMachine):\n",
        "  # input values: float elecEff\n",
        "  def __init__(self, elecEff):\n",
        "    super().__init__(Efficiency(elecEff = elecEff))\n",
        "    \n",
        "# Furnace\n",
        "class F_Machine(EMachine):\n",
        "  # input values: float fuelEff\n",
        "  def __init__(self, fuelEff):\n",
        "    super().__init__(Efficiency(fuelEff = fuelEff))\n",
        "\n",
        "# Heat pump\n",
        "class HP_Machine(EMachine):\n",
        "  pass\n",
        "\n",
        "# Cogeneration / combined heat and power\n",
        "class CHP_Machine(EMachine):\n",
        "  # input values: float fuelEff, float genEff\n",
        "  def __init__(self, fuelEff, genEff):\n",
        "    super().__init__(Efficiency(fuelEff = fuelEff))\n",
        "    self.genEff = genEff\n",
        "    \n",
        "# Bypass\n",
        "class BP_Machine(EMachine):\n",
        "  def __init__(self):\n",
        "    super().__init__(Efficiency())\n",
        "    self.pwrin_max = Power()"
      ],
      "execution_count": 0,
      "outputs": []
    },
    {
      "cell_type": "markdown",
      "metadata": {
        "id": "i66CD4LiBMdq",
        "colab_type": "text"
      },
      "source": [
        "Coupling variations"
      ]
    },
    {
      "cell_type": "code",
      "metadata": {
        "id": "nMqN8IUaveTh",
        "colab_type": "code",
        "colab": {}
      },
      "source": [
        "class EConn(EItem):\n",
        "  def __init__(self, *elements):\n",
        "    super().__init__()\n",
        "    \n",
        "    self.elements = list()\n",
        "    \n",
        "    for element in elements:\n",
        "      self.elements.append(element)\n",
        "\n",
        "  def run(self):\n",
        "    print(cind + \"Running \" + type(self).__name__ + \" \" + self.label)\n",
        "    cind.inc()\n",
        "    self.compute()\n",
        "    cind.dec()\n",
        "    print(cind + \"Input: \" + str(self.htfin) + \", output: \" + str(self.htfout))\n",
        "    print(cind + \"Energy balance: \" + str(self.pwr))\n",
        "    print(\"\")\n",
        "      \n",
        "class ESerial_Conn(EConn):\n",
        "  def compute(self):\n",
        "    self.pwr = Power()\n",
        "    # htf input with volume flow limited by htfin_max and htfout_max\n",
        "    self.htfin.massflow = min(dropNone(self.htfin.massflow, self.htfin_max.massflow, self.htfout_max.massflow))\n",
        "\n",
        "    htfin_element = HTF(self.htfin.temperature, \n",
        "                       min(dropNone(self.htfin.massflow, self.htfin_max.massflow, self.htfout_max.massflow)))\n",
        "\n",
        "    for element in self.elements:\n",
        "      \n",
        "      element.htfin = HTF() + htfin_element\n",
        "      \n",
        "      element.run()\n",
        "\n",
        "      self.pwr += element.pwr\n",
        "      htfin_res = htfin_element - element.htfin\n",
        "      htfin_element = element.htfout + htfin_res\n",
        "\n",
        "    self.htfout = htfin_element\n",
        "    \n",
        "  def gvRepr(self, graph):\n",
        "    with graph.subgraph(name = 'cluster_' + self.label) as c:\n",
        "      c.attr('node', shape='box')\n",
        "      c.node(self.label + '_IN', 'IN: ' + self.htfin.__str__(short = True))\n",
        "      c.node(self.label + '_OUT', 'OUT: ' + self.htfout.__str__(short = True))\n",
        "      c.attr(label = self.label)\n",
        "      for element in self.elements:\n",
        "        element.gvRepr(c)\n",
        "      c.edge(self.label + '_IN', self.elements[0].label + '_IN')\n",
        "      c.edge(self.elements[-1].label + '_OUT', self.label + '_OUT')\n",
        "      for i in range(len(self.elements) - 1):\n",
        "        c.edge(self.elements[i].label + '_OUT', self.elements[i+1].label + '_IN')\n",
        "    \n",
        "class EParallel_Conn(EConn):\n",
        "  def compute(self):\n",
        "    self.htfout = HTF()\n",
        "    self.pwr = Power()\n",
        "    \n",
        "    # pwr input for the first element\n",
        "    htfin_res = HTF() + self.htfin\n",
        "\n",
        "    for element in self.elements:\n",
        "      # htf as input \n",
        "      element.htfin = HTF() + htfin_res\n",
        "      element.run()\n",
        "\n",
        "      # pwr balance\n",
        "      self.pwr += element.pwr\n",
        "      # mix htf output\n",
        "      self.htfout += element.htfout\n",
        "      \n",
        "      # subtract used htf\n",
        "      htfin_res -= element.htfin\n",
        "      \n",
        "      print(\"\")\n",
        "\n",
        "    if (htfin_res.massflow != 0):\n",
        "      print (cind + \"Rejected \" + str(htfin_res))\n",
        "      self.htfin -= htfin_res\n",
        "      \n",
        "  def gvRepr(self, graph):\n",
        "    with graph.subgraph(name = 'cluster_' + self.label) as c:\n",
        "      c.attr('node', shape='box')\n",
        "      c.node(self.label + '_IN', 'IN: ' + self.htfin.__str__(short = True))\n",
        "      c.node(self.label + '_OUT', 'OUT: ' + self.htfout.__str__(short = True))\n",
        "      c.attr(label = self.label)\n",
        "      for element in self.elements:\n",
        "        element.gvRepr(c)\n",
        "        c.edge(self.label + '_IN', element.label + '_IN')\n",
        "        c.edge(element.label + '_OUT', self.label + '_OUT')"
      ],
      "execution_count": 0,
      "outputs": []
    },
    {
      "cell_type": "markdown",
      "metadata": {
        "id": "XQAb1Xpy_Kh4",
        "colab_type": "text"
      },
      "source": [
        "forward task"
      ]
    },
    {
      "cell_type": "code",
      "metadata": {
        "id": "JdkWaGOao5GK",
        "colab_type": "code",
        "outputId": "2996569b-db27-4ed5-a98f-64e771208503",
        "colab": {
          "base_uri": "https://localhost:8080/",
          "height": 998
        }
      },
      "source": [
        "# Example configuration\n",
        "\n",
        "htfin = HTF(70,0.09)\n",
        "cind.reset()\n",
        "graph = Digraph()\n",
        "\n",
        "p2h_1 = P2H_Machine(1.0)\n",
        "p2h_1.label = \"P2H_1\"\n",
        "p2h_1.pwrin_max = ElecPower(100,\"k\")\n",
        "p2h_1.htfout_max = HTF(999, 0.01)\n",
        "\n",
        "p2h_2 = P2H_Machine(1.0)\n",
        "p2h_2.label = \"P2H_2\"\n",
        "p2h_2.pwrin_max = ElecPower(50,\"k\")\n",
        "p2h_2.htfout_max = HTF(999, 0.01)\n",
        "\n",
        "fur_1 = F_Machine(0.92)\n",
        "fur_1.label = \"FUR_1\"\n",
        "fur_1.pwrin_max = FuelPower(6.52, \"M\")\n",
        "fur_1.htfout_max = HTF(999, 0.057)\n",
        "\n",
        "fur_2 = F_Machine(0.92)\n",
        "fur_2.label = \"FUR_2\"\n",
        "fur_2.pwrin_max = FuelPower(5.44, \"M\")\n",
        "fur_2.htfout_max = HTF(999, 0.047)\n",
        "\n",
        "chp_1 = CHP_Machine(0.489, 0.411)\n",
        "chp_1.label = \"CHP_1\"\n",
        "chp_1.pwrin_max = FuelPower(2, \"M\")\n",
        "chp_1.htfout_max = HTF(999, 0.010)\n",
        "\n",
        "chp_2 = CHP_Machine(0.499, 0.407)\n",
        "chp_2.label = \"CHP_2\"\n",
        "chp_2.pwrin_max = FuelPower(2.42, \"M\")\n",
        "chp_2.htfout_max = HTF(999, 0.0103)\n",
        "\n",
        "bps_1 = BP_Machine()\n",
        "bps_1.label = \"BPS_1\"\n",
        "bps_1.htfout_max = HTF(999, 0.02)\n",
        "\n",
        "bps_2 = BP_Machine()\n",
        "bps_2.label = \"BPS_2\"\n",
        "bps_2.htfout_max = HTF(999, 0.0097)\n",
        "\n",
        "stage_1_1 = EParallel_Conn(chp_1, fur_1)\n",
        "stage_1_1.label = \"STAGE_1_1\"\n",
        "\n",
        "stage_1_2i = ESerial_Conn(p2h_1, p2h_2)\n",
        "stage_1_2i.label = \"STAGE_1_2I\"\n",
        "stage_1_2i.htfout_max = HTF(999, 0.01)\n",
        "stage_1_2 = EParallel_Conn(chp_2, fur_2, stage_1_2i)\n",
        "stage_1_2.label = \"STAGE_1_2\"\n",
        "\n",
        "system_1 = ESerial_Conn(stage_1_1, stage_1_2)\n",
        "system_1.label = \"SYSTEM_1\"\n",
        "system_1.htfin = htfin\n",
        "system_1.run()\n"
      ],
      "execution_count": 13,
      "outputs": [
        {
          "output_type": "stream",
          "text": [
            "Running ESerial_Conn SYSTEM_1\n",
            "  Running EParallel_Conn STAGE_1_1\n",
            "    Running CHP_Machine CHP_1\n",
            "    Attempting forward task\n",
            "    Input: water at 70 °C, 0.01 m3/s, output: water at 93.8826 °C, 0.01 m3/s\n",
            "    Energy balance: ElecPower 822 kW, FuelPower -2 MW\n",
            "\n",
            "    Running F_Machine FUR_1\n",
            "    Attempting forward task\n",
            "    Input: water at 70 °C, 0.057 m3/s, output: water at 95.6982 °C, 0.057 m3/s\n",
            "    Energy balance: FuelPower -6.52 MW\n",
            "    Mixing water at 93.8826 °C, 0.01 m3/s with water at 95.6982 °C, 0.057 m3/s -> water at 95.4272 °C, 0.067 m3/s\n",
            "\n",
            "    Rejected water at 70 °C, 0.023 m3/s\n",
            "  Input: water at 70 °C, 0.067 m3/s, output: water at 95.4272 °C, 0.067 m3/s\n",
            "  Energy balance: ElecPower 822 kW, FuelPower -8.52 MW\n",
            "\n",
            "  Mixing water at 95.4272 °C, 0.067 m3/s with water at 70 °C, 0.023 m3/s -> water at 88.9292 °C, 0.09 m3/s\n",
            "  Running EParallel_Conn STAGE_1_2\n",
            "    Running CHP_Machine CHP_2\n",
            "    Attempting forward task\n",
            "    Input: water at 88.9292 °C, 0.0103 m3/s, output: water at 117.798 °C, 0.0103 m3/s\n",
            "    Energy balance: ElecPower 984.94 kW, FuelPower -2.42 MW\n",
            "\n",
            "    Running F_Machine FUR_2\n",
            "    Attempting forward task\n",
            "    Input: water at 88.9292 °C, 0.047 m3/s, output: water at 115.15 °C, 0.047 m3/s\n",
            "    Energy balance: FuelPower -5.44 MW\n",
            "    Mixing water at 117.798 °C, 0.0103 m3/s with water at 115.15 °C, 0.047 m3/s -> water at 115.626 °C, 0.0573 m3/s\n",
            "\n",
            "    Running ESerial_Conn STAGE_1_2I\n",
            "      Running P2H_Machine P2H_1\n",
            "      Attempting forward task\n",
            "      Input: water at 88.9292 °C, 0.01 m3/s, output: water at 91.3915 °C, 0.01 m3/s\n",
            "      Energy balance: ElecPower -100 kW\n",
            "      Mixing water at 91.3915 °C, 0.01 m3/s with water at 88.9292 °C, 0 m3/s -> water at 91.3915 °C, 0.01 m3/s\n",
            "      Running P2H_Machine P2H_2\n",
            "      Attempting forward task\n",
            "      Input: water at 91.3915 °C, 0.01 m3/s, output: water at 92.6241 °C, 0.01 m3/s\n",
            "      Energy balance: ElecPower -50 kW\n",
            "      Mixing water at 92.6241 °C, 0.01 m3/s with water at 91.3915 °C, 0 m3/s -> water at 92.6241 °C, 0.01 m3/s\n",
            "    Input: water at 88.9292 °C, 0.01 m3/s, output: water at 92.6241 °C, 0.01 m3/s\n",
            "    Energy balance: ElecPower -150 kW\n",
            "\n",
            "    Mixing water at 115.626 °C, 0.0573 m3/s with water at 92.6241 °C, 0.01 m3/s -> water at 112.208 °C, 0.0673 m3/s\n",
            "\n",
            "    Rejected water at 88.9292 °C, 0.0227 m3/s\n",
            "  Input: water at 88.9292 °C, 0.0673 m3/s, output: water at 112.208 °C, 0.0673 m3/s\n",
            "  Energy balance: ElecPower 834.94 kW, FuelPower -7.86 MW\n",
            "\n",
            "  Mixing water at 112.208 °C, 0.0673 m3/s with water at 88.9292 °C, 0.0227 m3/s -> water at 106.337 °C, 0.09 m3/s\n",
            "Input: water at 70 °C, 0.09 m3/s, output: water at 106.337 °C, 0.09 m3/s\n",
            "Energy balance: ElecPower 1.65694 MW, FuelPower -16.38 MW\n",
            "\n"
          ],
          "name": "stdout"
        }
      ]
    },
    {
      "cell_type": "code",
      "metadata": {
        "id": "k9LTf4fa0R3G",
        "colab_type": "code",
        "outputId": "2e7804d2-8429-4054-af8a-f735e88fa929",
        "colab": {
          "base_uri": "https://localhost:8080/",
          "height": 1000
        }
      },
      "source": [
        "graph = Digraph()\n",
        "system_1.gvRepr(graph)\n",
        "\n",
        "graph"
      ],
      "execution_count": 14,
      "outputs": [
        {
          "output_type": "execute_result",
          "data": {
            "text/plain": [
              "<graphviz.dot.Digraph at 0x7f360e8a0ef0>"
            ],
            "image/svg+xml": "<?xml version=\"1.0\" encoding=\"UTF-8\" standalone=\"no\"?>\n<!DOCTYPE svg PUBLIC \"-//W3C//DTD SVG 1.1//EN\"\n \"http://www.w3.org/Graphics/SVG/1.1/DTD/svg11.dtd\">\n<!-- Generated by graphviz version 2.40.1 (20161225.0304)\n -->\n<!-- Title: %3 Pages: 1 -->\n<svg width=\"848pt\" height=\"1295pt\"\n viewBox=\"0.00 0.00 848.00 1295.00\" xmlns=\"http://www.w3.org/2000/svg\" xmlns:xlink=\"http://www.w3.org/1999/xlink\">\n<g id=\"graph0\" class=\"graph\" transform=\"scale(1 1) rotate(0) translate(4 1291)\">\n<title>%3</title>\n<polygon fill=\"#ffffff\" stroke=\"transparent\" points=\"-4,4 -4,-1291 844,-1291 844,4 -4,4\"/>\n<g id=\"clust1\" class=\"cluster\">\n<title>cluster_SYSTEM_1</title>\n<polygon fill=\"none\" stroke=\"#000000\" points=\"8,-8 8,-1279 832,-1279 832,-8 8,-8\"/>\n<text text-anchor=\"middle\" x=\"420\" y=\"-1263.8\" font-family=\"Times,serif\" font-size=\"14.00\" fill=\"#000000\">SYSTEM_1</text>\n</g>\n<g id=\"clust2\" class=\"cluster\">\n<title>cluster_STAGE_1_1</title>\n<polygon fill=\"none\" stroke=\"#000000\" points=\"167,-835 167,-1204 711,-1204 711,-835 167,-835\"/>\n<text text-anchor=\"middle\" x=\"439\" y=\"-1188.8\" font-family=\"Times,serif\" font-size=\"14.00\" fill=\"#000000\">STAGE_1_1</text>\n</g>\n<g id=\"clust3\" class=\"cluster\">\n<title>cluster_CHP_1</title>\n<polygon fill=\"none\" stroke=\"#000000\" points=\"175,-907 175,-1129 485,-1129 485,-907 175,-907\"/>\n<text text-anchor=\"middle\" x=\"330\" y=\"-1113.8\" font-family=\"Times,serif\" font-size=\"14.00\" fill=\"#000000\">CHP_1</text>\n</g>\n<g id=\"clust4\" class=\"cluster\">\n<title>cluster_FUR_1</title>\n<polygon fill=\"none\" stroke=\"#000000\" points=\"493,-907 493,-1129 703,-1129 703,-907 493,-907\"/>\n<text text-anchor=\"middle\" x=\"598\" y=\"-1113.8\" font-family=\"Times,serif\" font-size=\"14.00\" fill=\"#000000\">FUR_1</text>\n</g>\n<g id=\"clust5\" class=\"cluster\">\n<title>cluster_STAGE_1_2</title>\n<polygon fill=\"none\" stroke=\"#000000\" points=\"16,-80 16,-827 824,-827 824,-80 16,-80\"/>\n<text text-anchor=\"middle\" x=\"420\" y=\"-811.8\" font-family=\"Times,serif\" font-size=\"14.00\" fill=\"#000000\">STAGE_1_2</text>\n</g>\n<g id=\"clust6\" class=\"cluster\">\n<title>cluster_CHP_2</title>\n<polygon fill=\"none\" stroke=\"#000000\" points=\"24,-527 24,-752 372,-752 372,-527 24,-527\"/>\n<text text-anchor=\"middle\" x=\"198\" y=\"-736.8\" font-family=\"Times,serif\" font-size=\"14.00\" fill=\"#000000\">CHP_2</text>\n</g>\n<g id=\"clust7\" class=\"cluster\">\n<title>cluster_FUR_2</title>\n<polygon fill=\"none\" stroke=\"#000000\" points=\"380,-527 380,-752 590,-752 590,-527 380,-527\"/>\n<text text-anchor=\"middle\" x=\"485\" y=\"-736.8\" font-family=\"Times,serif\" font-size=\"14.00\" fill=\"#000000\">FUR_2</text>\n</g>\n<g id=\"clust8\" class=\"cluster\">\n<title>cluster_STAGE_1_2I</title>\n<polygon fill=\"none\" stroke=\"#000000\" points=\"598,-152 598,-751.5 816,-751.5 816,-152 598,-152\"/>\n<text text-anchor=\"middle\" x=\"707\" y=\"-736.3\" font-family=\"Times,serif\" font-size=\"14.00\" fill=\"#000000\">STAGE_1_2I</text>\n</g>\n<g id=\"clust9\" class=\"cluster\">\n<title>cluster_P2H_1</title>\n<polygon fill=\"none\" stroke=\"#000000\" points=\"606,-454 606,-676 808,-676 808,-454 606,-454\"/>\n<text text-anchor=\"middle\" x=\"707\" y=\"-660.8\" font-family=\"Times,serif\" font-size=\"14.00\" fill=\"#000000\">P2H_1</text>\n</g>\n<g id=\"clust10\" class=\"cluster\">\n<title>cluster_P2H_2</title>\n<polygon fill=\"none\" stroke=\"#000000\" points=\"606,-224 606,-446 808,-446 808,-224 606,-224\"/>\n<text text-anchor=\"middle\" x=\"707\" y=\"-430.8\" font-family=\"Times,serif\" font-size=\"14.00\" fill=\"#000000\">P2H_2</text>\n</g>\n<!-- SYSTEM_1_IN -->\n<g id=\"node1\" class=\"node\">\n<title>SYSTEM_1_IN</title>\n<polygon fill=\"none\" stroke=\"#000000\" points=\"546.5,-1248 407.5,-1248 407.5,-1212 546.5,-1212 546.5,-1248\"/>\n<text text-anchor=\"middle\" x=\"477\" y=\"-1226.3\" font-family=\"Times,serif\" font-size=\"14.00\" fill=\"#000000\">IN: 70 °C, 0.09 m3/s</text>\n</g>\n<!-- STAGE_1_1_IN -->\n<g id=\"node3\" class=\"node\">\n<title>STAGE_1_1_IN</title>\n<polygon fill=\"none\" stroke=\"#000000\" points=\"550,-1173 404,-1173 404,-1137 550,-1137 550,-1173\"/>\n<text text-anchor=\"middle\" x=\"477\" y=\"-1151.3\" font-family=\"Times,serif\" font-size=\"14.00\" fill=\"#000000\">IN: 70 °C, 0.067 m3/s</text>\n</g>\n<!-- SYSTEM_1_IN&#45;&gt;STAGE_1_1_IN -->\n<g id=\"edge26\" class=\"edge\">\n<title>SYSTEM_1_IN&#45;&gt;STAGE_1_1_IN</title>\n<path fill=\"none\" stroke=\"#000000\" d=\"M477,-1211.8446C477,-1203.3401 477,-1193.0076 477,-1183.4964\"/>\n<polygon fill=\"#000000\" stroke=\"#000000\" points=\"480.5001,-1183.2481 477,-1173.2482 473.5001,-1183.2482 480.5001,-1183.2481\"/>\n</g>\n<!-- SYSTEM_1_OUT -->\n<g id=\"node2\" class=\"node\">\n<title>SYSTEM_1_OUT</title>\n<polygon fill=\"none\" stroke=\"#000000\" points=\"578.5,-52 391.5,-52 391.5,-16 578.5,-16 578.5,-52\"/>\n<text text-anchor=\"middle\" x=\"485\" y=\"-30.3\" font-family=\"Times,serif\" font-size=\"14.00\" fill=\"#000000\">OUT: 106.337 °C, 0.09 m3/s</text>\n</g>\n<!-- CHP_1_IN -->\n<g id=\"node5\" class=\"node\">\n<title>CHP_1_IN</title>\n<polygon fill=\"none\" stroke=\"#000000\" points=\"298.5,-1061.5 298.5,-1097.5 437.5,-1097.5 437.5,-1061.5 298.5,-1061.5\"/>\n<text text-anchor=\"middle\" x=\"368\" y=\"-1075.8\" font-family=\"Times,serif\" font-size=\"14.00\" fill=\"#000000\">IN: 70 °C, 0.01 m3/s</text>\n</g>\n<!-- STAGE_1_1_IN&#45;&gt;CHP_1_IN -->\n<g id=\"edge3\" class=\"edge\">\n<title>STAGE_1_1_IN&#45;&gt;CHP_1_IN</title>\n<path fill=\"none\" stroke=\"#000000\" d=\"M450.8918,-1136.9159C436.4375,-1126.9039 418.2865,-1114.3315 402.6571,-1103.5056\"/>\n<polygon fill=\"#000000\" stroke=\"#000000\" points=\"404.4865,-1100.5151 394.273,-1097.6982 400.5006,-1106.2695 404.4865,-1100.5151\"/>\n</g>\n<!-- FUR_1_IN -->\n<g id=\"node8\" class=\"node\">\n<title>FUR_1_IN</title>\n<polygon fill=\"none\" stroke=\"#000000\" points=\"513,-1061.5 513,-1097.5 659,-1097.5 659,-1061.5 513,-1061.5\"/>\n<text text-anchor=\"middle\" x=\"586\" y=\"-1075.8\" font-family=\"Times,serif\" font-size=\"14.00\" fill=\"#000000\">IN: 70 °C, 0.057 m3/s</text>\n</g>\n<!-- STAGE_1_1_IN&#45;&gt;FUR_1_IN -->\n<g id=\"edge7\" class=\"edge\">\n<title>STAGE_1_1_IN&#45;&gt;FUR_1_IN</title>\n<path fill=\"none\" stroke=\"#000000\" d=\"M503.1082,-1136.9159C517.5625,-1126.9039 535.7135,-1114.3315 551.3429,-1103.5056\"/>\n<polygon fill=\"#000000\" stroke=\"#000000\" points=\"553.4994,-1106.2695 559.727,-1097.6982 549.5135,-1100.5151 553.4994,-1106.2695\"/>\n</g>\n<!-- STAGE_1_1_OUT -->\n<g id=\"node4\" class=\"node\">\n<title>STAGE_1_1_OUT</title>\n<polygon fill=\"none\" stroke=\"#000000\" points=\"582,-879 388,-879 388,-843 582,-843 582,-879\"/>\n<text text-anchor=\"middle\" x=\"485\" y=\"-857.3\" font-family=\"Times,serif\" font-size=\"14.00\" fill=\"#000000\">OUT: 95.4272 °C, 0.067 m3/s</text>\n</g>\n<!-- STAGE_1_2_IN -->\n<g id=\"node11\" class=\"node\">\n<title>STAGE_1_2_IN</title>\n<polygon fill=\"none\" stroke=\"#000000\" points=\"579,-796 391,-796 391,-760 579,-760 579,-796\"/>\n<text text-anchor=\"middle\" x=\"485\" y=\"-774.3\" font-family=\"Times,serif\" font-size=\"14.00\" fill=\"#000000\">IN: 88.9292 °C, 0.0673 m3/s</text>\n</g>\n<!-- STAGE_1_1_OUT&#45;&gt;STAGE_1_2_IN -->\n<g id=\"edge28\" class=\"edge\">\n<title>STAGE_1_1_OUT&#45;&gt;STAGE_1_2_IN</title>\n<path fill=\"none\" stroke=\"#000000\" d=\"M485,-842.9902C485,-832.2963 485,-818.4994 485,-806.3706\"/>\n<polygon fill=\"#000000\" stroke=\"#000000\" points=\"488.5001,-806.2612 485,-796.2612 481.5001,-806.2613 488.5001,-806.2612\"/>\n</g>\n<!-- CHP_1 -->\n<g id=\"node7\" class=\"node\">\n<title>CHP_1</title>\n<polygon fill=\"none\" stroke=\"#000000\" points=\"183,-988.5 183,-1024.5 477,-1024.5 477,-988.5 183,-988.5\"/>\n<text text-anchor=\"middle\" x=\"330\" y=\"-1002.8\" font-family=\"Times,serif\" font-size=\"14.00\" fill=\"#000000\">CHP_1: ElecPower 822 kW, FuelPower &#45;2 MW</text>\n</g>\n<!-- CHP_1_IN&#45;&gt;CHP_1 -->\n<g id=\"edge1\" class=\"edge\">\n<title>CHP_1_IN&#45;&gt;CHP_1</title>\n<path fill=\"none\" stroke=\"#000000\" d=\"M358.6067,-1061.4551C354.2221,-1053.0319 348.9111,-1042.8292 344.0614,-1033.5128\"/>\n<polygon fill=\"#000000\" stroke=\"#000000\" points=\"347.1389,-1031.8445 339.4169,-1024.5904 340.9297,-1035.0766 347.1389,-1031.8445\"/>\n</g>\n<!-- CHP_1_OUT -->\n<g id=\"node6\" class=\"node\">\n<title>CHP_1_OUT</title>\n<polygon fill=\"none\" stroke=\"#000000\" points=\"263.5,-915.5 263.5,-951.5 450.5,-951.5 450.5,-915.5 263.5,-915.5\"/>\n<text text-anchor=\"middle\" x=\"357\" y=\"-929.8\" font-family=\"Times,serif\" font-size=\"14.00\" fill=\"#000000\">OUT: 93.8826 °C, 0.01 m3/s</text>\n</g>\n<!-- CHP_1_OUT&#45;&gt;STAGE_1_1_OUT -->\n<g id=\"edge4\" class=\"edge\">\n<title>CHP_1_OUT&#45;&gt;STAGE_1_1_OUT</title>\n<path fill=\"none\" stroke=\"#000000\" d=\"M388.9696,-915.3922C405.6166,-905.9633 426.159,-894.3279 443.9665,-884.2416\"/>\n<polygon fill=\"#000000\" stroke=\"#000000\" points=\"446.0181,-887.1021 452.9943,-879.1282 442.5681,-881.0113 446.0181,-887.1021\"/>\n</g>\n<!-- CHP_1&#45;&gt;CHP_1_OUT -->\n<g id=\"edge2\" class=\"edge\">\n<title>CHP_1&#45;&gt;CHP_1_OUT</title>\n<path fill=\"none\" stroke=\"#000000\" d=\"M336.6742,-988.4551C339.7247,-980.2074 343.4062,-970.2536 346.7932,-961.0962\"/>\n<polygon fill=\"#000000\" stroke=\"#000000\" points=\"350.1227,-962.1836 350.309,-951.5904 343.5574,-959.7552 350.1227,-962.1836\"/>\n</g>\n<!-- FUR_1 -->\n<g id=\"node10\" class=\"node\">\n<title>FUR_1</title>\n<polygon fill=\"none\" stroke=\"#000000\" points=\"501,-988.5 501,-1024.5 695,-1024.5 695,-988.5 501,-988.5\"/>\n<text text-anchor=\"middle\" x=\"598\" y=\"-1002.8\" font-family=\"Times,serif\" font-size=\"14.00\" fill=\"#000000\">FUR_1: FuelPower &#45;6.52 MW</text>\n</g>\n<!-- FUR_1_IN&#45;&gt;FUR_1 -->\n<g id=\"edge5\" class=\"edge\">\n<title>FUR_1_IN&#45;&gt;FUR_1</title>\n<path fill=\"none\" stroke=\"#000000\" d=\"M588.9663,-1061.4551C590.2932,-1053.3828 591.8888,-1043.6764 593.3674,-1034.6817\"/>\n<polygon fill=\"#000000\" stroke=\"#000000\" points=\"596.8577,-1035.0257 595.0262,-1024.5904 589.9504,-1033.8902 596.8577,-1035.0257\"/>\n</g>\n<!-- FUR_1_OUT -->\n<g id=\"node9\" class=\"node\">\n<title>FUR_1_OUT</title>\n<polygon fill=\"none\" stroke=\"#000000\" points=\"501,-915.5 501,-951.5 695,-951.5 695,-915.5 501,-915.5\"/>\n<text text-anchor=\"middle\" x=\"598\" y=\"-929.8\" font-family=\"Times,serif\" font-size=\"14.00\" fill=\"#000000\">OUT: 95.6982 °C, 0.057 m3/s</text>\n</g>\n<!-- FUR_1_OUT&#45;&gt;STAGE_1_1_OUT -->\n<g id=\"edge8\" class=\"edge\">\n<title>FUR_1_OUT&#45;&gt;STAGE_1_1_OUT</title>\n<path fill=\"none\" stroke=\"#000000\" d=\"M569.7768,-915.3922C555.3503,-906.1363 537.6099,-894.7541 522.0926,-884.7984\"/>\n<polygon fill=\"#000000\" stroke=\"#000000\" points=\"523.5617,-881.5825 513.255,-879.1282 519.7816,-887.4741 523.5617,-881.5825\"/>\n</g>\n<!-- FUR_1&#45;&gt;FUR_1_OUT -->\n<g id=\"edge6\" class=\"edge\">\n<title>FUR_1&#45;&gt;FUR_1_OUT</title>\n<path fill=\"none\" stroke=\"#000000\" d=\"M598,-988.4551C598,-980.3828 598,-970.6764 598,-961.6817\"/>\n<polygon fill=\"#000000\" stroke=\"#000000\" points=\"601.5001,-961.5903 598,-951.5904 594.5001,-961.5904 601.5001,-961.5903\"/>\n</g>\n<!-- CHP_2_IN -->\n<g id=\"node13\" class=\"node\">\n<title>CHP_2_IN</title>\n<polygon fill=\"none\" stroke=\"#000000\" points=\"140,-684.5 140,-720.5 328,-720.5 328,-684.5 140,-684.5\"/>\n<text text-anchor=\"middle\" x=\"234\" y=\"-698.8\" font-family=\"Times,serif\" font-size=\"14.00\" fill=\"#000000\">IN: 88.9292 °C, 0.0103 m3/s</text>\n</g>\n<!-- STAGE_1_2_IN&#45;&gt;CHP_2_IN -->\n<g id=\"edge11\" class=\"edge\">\n<title>STAGE_1_2_IN&#45;&gt;CHP_2_IN</title>\n<path fill=\"none\" stroke=\"#000000\" d=\"M405.2786,-759.9721C395.3793,-757.4432 385.4288,-754.7602 376,-752 347.8946,-743.7723 317.1565,-733.2513 291.4887,-724.0264\"/>\n<polygon fill=\"#000000\" stroke=\"#000000\" points=\"292.5098,-720.6739 281.9156,-720.5618 290.1276,-727.2561 292.5098,-720.6739\"/>\n</g>\n<!-- FUR_2_IN -->\n<g id=\"node16\" class=\"node\">\n<title>FUR_2_IN</title>\n<polygon fill=\"none\" stroke=\"#000000\" points=\"395,-684.5 395,-720.5 575,-720.5 575,-684.5 395,-684.5\"/>\n<text text-anchor=\"middle\" x=\"485\" y=\"-698.8\" font-family=\"Times,serif\" font-size=\"14.00\" fill=\"#000000\">IN: 88.9292 °C, 0.047 m3/s</text>\n</g>\n<!-- STAGE_1_2_IN&#45;&gt;FUR_2_IN -->\n<g id=\"edge15\" class=\"edge\">\n<title>STAGE_1_2_IN&#45;&gt;FUR_2_IN</title>\n<path fill=\"none\" stroke=\"#000000\" d=\"M485,-759.7236C485,-751.0062 485,-740.3809 485,-730.6633\"/>\n<polygon fill=\"#000000\" stroke=\"#000000\" points=\"488.5001,-730.6081 485,-720.6081 481.5001,-730.6082 488.5001,-730.6081\"/>\n</g>\n<!-- STAGE_1_2I_IN -->\n<g id=\"node19\" class=\"node\">\n<title>STAGE_1_2I_IN</title>\n<polygon fill=\"none\" stroke=\"#000000\" points=\"783.5,-720.5 610.5,-720.5 610.5,-684.5 783.5,-684.5 783.5,-720.5\"/>\n<text text-anchor=\"middle\" x=\"697\" y=\"-698.8\" font-family=\"Times,serif\" font-size=\"14.00\" fill=\"#000000\">IN: 88.9292 °C, 0.01 m3/s</text>\n</g>\n<!-- STAGE_1_2_IN&#45;&gt;STAGE_1_2I_IN -->\n<g id=\"edge24\" class=\"edge\">\n<title>STAGE_1_2_IN&#45;&gt;STAGE_1_2I_IN</title>\n<path fill=\"none\" stroke=\"#000000\" d=\"M568.8503,-759.9311C577.4192,-757.5104 585.9331,-754.8633 594,-752 614.6331,-744.6764 636.6174,-734.4684 654.9539,-725.2238\"/>\n<polygon fill=\"#000000\" stroke=\"#000000\" points=\"656.6041,-728.311 663.9112,-720.6392 653.4148,-722.0798 656.6041,-728.311\"/>\n</g>\n<!-- STAGE_1_2_OUT -->\n<g id=\"node12\" class=\"node\">\n<title>STAGE_1_2_OUT</title>\n<polygon fill=\"none\" stroke=\"#000000\" points=\"585.5,-124 384.5,-124 384.5,-88 585.5,-88 585.5,-124\"/>\n<text text-anchor=\"middle\" x=\"485\" y=\"-102.3\" font-family=\"Times,serif\" font-size=\"14.00\" fill=\"#000000\">OUT: 112.208 °C, 0.0673 m3/s</text>\n</g>\n<!-- STAGE_1_2_OUT&#45;&gt;SYSTEM_1_OUT -->\n<g id=\"edge27\" class=\"edge\">\n<title>STAGE_1_2_OUT&#45;&gt;SYSTEM_1_OUT</title>\n<path fill=\"none\" stroke=\"#000000\" d=\"M485,-87.8314C485,-80.131 485,-70.9743 485,-62.4166\"/>\n<polygon fill=\"#000000\" stroke=\"#000000\" points=\"488.5001,-62.4132 485,-52.4133 481.5001,-62.4133 488.5001,-62.4132\"/>\n</g>\n<!-- CHP_2 -->\n<g id=\"node15\" class=\"node\">\n<title>CHP_2</title>\n<polygon fill=\"none\" stroke=\"#000000\" points=\"32,-608.5 32,-644.5 364,-644.5 364,-608.5 32,-608.5\"/>\n<text text-anchor=\"middle\" x=\"198\" y=\"-622.8\" font-family=\"Times,serif\" font-size=\"14.00\" fill=\"#000000\">CHP_2: ElecPower 984.94 kW, FuelPower &#45;2.42 MW</text>\n</g>\n<!-- CHP_2_IN&#45;&gt;CHP_2 -->\n<g id=\"edge9\" class=\"edge\">\n<title>CHP_2_IN&#45;&gt;CHP_2</title>\n<path fill=\"none\" stroke=\"#000000\" d=\"M225.4685,-684.4891C221.1512,-675.3747 215.8179,-664.1155 211.0027,-653.9502\"/>\n<polygon fill=\"#000000\" stroke=\"#000000\" points=\"214.039,-652.1841 206.595,-644.645 207.7129,-655.1807 214.039,-652.1841\"/>\n</g>\n<!-- CHP_2_OUT -->\n<g id=\"node14\" class=\"node\">\n<title>CHP_2_OUT</title>\n<polygon fill=\"none\" stroke=\"#000000\" points=\"129.5,-535.5 129.5,-571.5 330.5,-571.5 330.5,-535.5 129.5,-535.5\"/>\n<text text-anchor=\"middle\" x=\"230\" y=\"-549.8\" font-family=\"Times,serif\" font-size=\"14.00\" fill=\"#000000\">OUT: 117.798 °C, 0.0103 m3/s</text>\n</g>\n<!-- CHP_2_OUT&#45;&gt;STAGE_1_2_OUT -->\n<g id=\"edge12\" class=\"edge\">\n<title>CHP_2_OUT&#45;&gt;STAGE_1_2_OUT</title>\n<path fill=\"none\" stroke=\"#000000\" d=\"M261.1826,-535.2879C300.4934,-509.7141 363,-459.1931 363,-396.5 363,-396.5 363,-396.5 363,-250.5 363,-198.0676 410.4761,-154.8198 446.1954,-129.7015\"/>\n<polygon fill=\"#000000\" stroke=\"#000000\" points=\"448.2418,-132.5424 454.529,-124.0146 444.2961,-126.7604 448.2418,-132.5424\"/>\n</g>\n<!-- CHP_2&#45;&gt;CHP_2_OUT -->\n<g id=\"edge10\" class=\"edge\">\n<title>CHP_2&#45;&gt;CHP_2_OUT</title>\n<path fill=\"none\" stroke=\"#000000\" d=\"M205.9101,-608.4551C209.564,-600.1196 213.9818,-590.0416 218.031,-580.8042\"/>\n<polygon fill=\"#000000\" stroke=\"#000000\" points=\"221.2607,-582.1542 222.07,-571.5904 214.8496,-579.3439 221.2607,-582.1542\"/>\n</g>\n<!-- FUR_2 -->\n<g id=\"node18\" class=\"node\">\n<title>FUR_2</title>\n<polygon fill=\"none\" stroke=\"#000000\" points=\"388,-608.5 388,-644.5 582,-644.5 582,-608.5 388,-608.5\"/>\n<text text-anchor=\"middle\" x=\"485\" y=\"-622.8\" font-family=\"Times,serif\" font-size=\"14.00\" fill=\"#000000\">FUR_2: FuelPower &#45;5.44 MW</text>\n</g>\n<!-- FUR_2_IN&#45;&gt;FUR_2 -->\n<g id=\"edge13\" class=\"edge\">\n<title>FUR_2_IN&#45;&gt;FUR_2</title>\n<path fill=\"none\" stroke=\"#000000\" d=\"M485,-684.4891C485,-675.6566 485,-664.8099 485,-654.8965\"/>\n<polygon fill=\"#000000\" stroke=\"#000000\" points=\"488.5001,-654.645 485,-644.645 481.5001,-654.6451 488.5001,-654.645\"/>\n</g>\n<!-- FUR_2_OUT -->\n<g id=\"node17\" class=\"node\">\n<title>FUR_2_OUT</title>\n<polygon fill=\"none\" stroke=\"#000000\" points=\"392,-535.5 392,-571.5 578,-571.5 578,-535.5 392,-535.5\"/>\n<text text-anchor=\"middle\" x=\"485\" y=\"-549.8\" font-family=\"Times,serif\" font-size=\"14.00\" fill=\"#000000\">OUT: 115.15 °C, 0.047 m3/s</text>\n</g>\n<!-- FUR_2_OUT&#45;&gt;STAGE_1_2_OUT -->\n<g id=\"edge16\" class=\"edge\">\n<title>FUR_2_OUT&#45;&gt;STAGE_1_2_OUT</title>\n<path fill=\"none\" stroke=\"#000000\" d=\"M485,-535.1303C485,-505.8174 485,-446.6528 485,-396.5 485,-396.5 485,-396.5 485,-250.5 485,-210.2367 485,-163.6627 485,-134.5163\"/>\n<polygon fill=\"#000000\" stroke=\"#000000\" points=\"488.5001,-134.2485 485,-124.2485 481.5001,-134.2486 488.5001,-134.2485\"/>\n</g>\n<!-- FUR_2&#45;&gt;FUR_2_OUT -->\n<g id=\"edge14\" class=\"edge\">\n<title>FUR_2&#45;&gt;FUR_2_OUT</title>\n<path fill=\"none\" stroke=\"#000000\" d=\"M485,-608.4551C485,-600.3828 485,-590.6764 485,-581.6817\"/>\n<polygon fill=\"#000000\" stroke=\"#000000\" points=\"488.5001,-581.5903 485,-571.5904 481.5001,-581.5904 488.5001,-581.5903\"/>\n</g>\n<!-- P2H_1_IN -->\n<g id=\"node21\" class=\"node\">\n<title>P2H_1_IN</title>\n<polygon fill=\"none\" stroke=\"#000000\" points=\"616.5,-608.5 616.5,-644.5 789.5,-644.5 789.5,-608.5 616.5,-608.5\"/>\n<text text-anchor=\"middle\" x=\"703\" y=\"-622.8\" font-family=\"Times,serif\" font-size=\"14.00\" fill=\"#000000\">IN: 88.9292 °C, 0.01 m3/s</text>\n</g>\n<!-- STAGE_1_2I_IN&#45;&gt;P2H_1_IN -->\n<g id=\"edge21\" class=\"edge\">\n<title>STAGE_1_2I_IN&#45;&gt;P2H_1_IN</title>\n<path fill=\"none\" stroke=\"#000000\" d=\"M698.4219,-684.4891C699.1192,-675.6566 699.9755,-664.8099 700.7582,-654.8965\"/>\n<polygon fill=\"#000000\" stroke=\"#000000\" points=\"704.2695,-654.8895 701.5675,-644.645 697.2912,-654.3385 704.2695,-654.8895\"/>\n</g>\n<!-- STAGE_1_2I_OUT -->\n<g id=\"node20\" class=\"node\">\n<title>STAGE_1_2I_OUT</title>\n<polygon fill=\"none\" stroke=\"#000000\" points=\"796.5,-196 609.5,-196 609.5,-160 796.5,-160 796.5,-196\"/>\n<text text-anchor=\"middle\" x=\"703\" y=\"-174.3\" font-family=\"Times,serif\" font-size=\"14.00\" fill=\"#000000\">OUT: 92.6241 °C, 0.01 m3/s</text>\n</g>\n<!-- STAGE_1_2I_OUT&#45;&gt;STAGE_1_2_OUT -->\n<g id=\"edge25\" class=\"edge\">\n<title>STAGE_1_2I_OUT&#45;&gt;STAGE_1_2_OUT</title>\n<path fill=\"none\" stroke=\"#000000\" d=\"M648.2708,-159.9243C618.2098,-149.9959 580.755,-137.6255 549.3046,-127.2382\"/>\n<polygon fill=\"#000000\" stroke=\"#000000\" points=\"550.3449,-123.8959 539.7517,-124.0831 548.1496,-130.5428 550.3449,-123.8959\"/>\n</g>\n<!-- P2H_1 -->\n<g id=\"node23\" class=\"node\">\n<title>P2H_1</title>\n<polygon fill=\"none\" stroke=\"#000000\" points=\"615,-535.5 615,-571.5 797,-571.5 797,-535.5 615,-535.5\"/>\n<text text-anchor=\"middle\" x=\"706\" y=\"-549.8\" font-family=\"Times,serif\" font-size=\"14.00\" fill=\"#000000\">P2H_1: ElecPower &#45;100 kW</text>\n</g>\n<!-- P2H_1_IN&#45;&gt;P2H_1 -->\n<g id=\"edge17\" class=\"edge\">\n<title>P2H_1_IN&#45;&gt;P2H_1</title>\n<path fill=\"none\" stroke=\"#000000\" d=\"M703.7416,-608.4551C704.0733,-600.3828 704.4722,-590.6764 704.8418,-581.6817\"/>\n<polygon fill=\"#000000\" stroke=\"#000000\" points=\"708.3429,-581.7257 705.2566,-571.5904 701.3488,-581.4382 708.3429,-581.7257\"/>\n</g>\n<!-- P2H_1_OUT -->\n<g id=\"node22\" class=\"node\">\n<title>P2H_1_OUT</title>\n<polygon fill=\"none\" stroke=\"#000000\" points=\"613.5,-462.5 613.5,-498.5 800.5,-498.5 800.5,-462.5 613.5,-462.5\"/>\n<text text-anchor=\"middle\" x=\"707\" y=\"-476.8\" font-family=\"Times,serif\" font-size=\"14.00\" fill=\"#000000\">OUT: 91.3915 °C, 0.01 m3/s</text>\n</g>\n<!-- P2H_2_IN -->\n<g id=\"node24\" class=\"node\">\n<title>P2H_2_IN</title>\n<polygon fill=\"none\" stroke=\"#000000\" points=\"620.5,-378.5 620.5,-414.5 793.5,-414.5 793.5,-378.5 620.5,-378.5\"/>\n<text text-anchor=\"middle\" x=\"707\" y=\"-392.8\" font-family=\"Times,serif\" font-size=\"14.00\" fill=\"#000000\">IN: 91.3915 °C, 0.01 m3/s</text>\n</g>\n<!-- P2H_1_OUT&#45;&gt;P2H_2_IN -->\n<g id=\"edge23\" class=\"edge\">\n<title>P2H_1_OUT&#45;&gt;P2H_2_IN</title>\n<path fill=\"none\" stroke=\"#000000\" d=\"M707,-462.2733C707,-451.3758 707,-437.2946 707,-424.9587\"/>\n<polygon fill=\"#000000\" stroke=\"#000000\" points=\"710.5001,-424.6911 707,-414.6912 703.5001,-424.6912 710.5001,-424.6911\"/>\n</g>\n<!-- P2H_1&#45;&gt;P2H_1_OUT -->\n<g id=\"edge18\" class=\"edge\">\n<title>P2H_1&#45;&gt;P2H_1_OUT</title>\n<path fill=\"none\" stroke=\"#000000\" d=\"M706.2472,-535.4551C706.3578,-527.3828 706.4907,-517.6764 706.6139,-508.6817\"/>\n<polygon fill=\"#000000\" stroke=\"#000000\" points=\"710.1148,-508.6374 706.7522,-498.5904 703.1154,-508.5414 710.1148,-508.6374\"/>\n</g>\n<!-- P2H_2 -->\n<g id=\"node26\" class=\"node\">\n<title>P2H_2</title>\n<polygon fill=\"none\" stroke=\"#000000\" points=\"619.5,-305.5 619.5,-341.5 794.5,-341.5 794.5,-305.5 619.5,-305.5\"/>\n<text text-anchor=\"middle\" x=\"707\" y=\"-319.8\" font-family=\"Times,serif\" font-size=\"14.00\" fill=\"#000000\">P2H_2: ElecPower &#45;50 kW</text>\n</g>\n<!-- P2H_2_IN&#45;&gt;P2H_2 -->\n<g id=\"edge19\" class=\"edge\">\n<title>P2H_2_IN&#45;&gt;P2H_2</title>\n<path fill=\"none\" stroke=\"#000000\" d=\"M707,-378.4551C707,-370.3828 707,-360.6764 707,-351.6817\"/>\n<polygon fill=\"#000000\" stroke=\"#000000\" points=\"710.5001,-351.5903 707,-341.5904 703.5001,-351.5904 710.5001,-351.5903\"/>\n</g>\n<!-- P2H_2_OUT -->\n<g id=\"node25\" class=\"node\">\n<title>P2H_2_OUT</title>\n<polygon fill=\"none\" stroke=\"#000000\" points=\"613.5,-232.5 613.5,-268.5 800.5,-268.5 800.5,-232.5 613.5,-232.5\"/>\n<text text-anchor=\"middle\" x=\"707\" y=\"-246.8\" font-family=\"Times,serif\" font-size=\"14.00\" fill=\"#000000\">OUT: 92.6241 °C, 0.01 m3/s</text>\n</g>\n<!-- P2H_2_OUT&#45;&gt;STAGE_1_2I_OUT -->\n<g id=\"edge22\" class=\"edge\">\n<title>P2H_2_OUT&#45;&gt;STAGE_1_2I_OUT</title>\n<path fill=\"none\" stroke=\"#000000\" d=\"M705.9906,-232.2052C705.5562,-224.332 705.0385,-214.9471 704.5568,-206.2167\"/>\n<polygon fill=\"#000000\" stroke=\"#000000\" points=\"708.0409,-205.8298 703.9952,-196.0378 701.0515,-206.2155 708.0409,-205.8298\"/>\n</g>\n<!-- P2H_2&#45;&gt;P2H_2_OUT -->\n<g id=\"edge20\" class=\"edge\">\n<title>P2H_2&#45;&gt;P2H_2_OUT</title>\n<path fill=\"none\" stroke=\"#000000\" d=\"M707,-305.4551C707,-297.3828 707,-287.6764 707,-278.6817\"/>\n<polygon fill=\"#000000\" stroke=\"#000000\" points=\"710.5001,-278.5903 707,-268.5904 703.5001,-278.5904 710.5001,-278.5903\"/>\n</g>\n</g>\n</svg>\n"
          },
          "metadata": {
            "tags": []
          },
          "execution_count": 14
        }
      ]
    }
  ]
}