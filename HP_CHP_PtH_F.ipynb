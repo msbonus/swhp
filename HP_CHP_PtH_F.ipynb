{
  "nbformat": 4,
  "nbformat_minor": 0,
  "metadata": {
    "colab": {
      "name": "HP_CHP_PtH_F.ipynb",
      "version": "0.3.2",
      "provenance": [],
      "collapsed_sections": []
    },
    "kernelspec": {
      "name": "python3",
      "display_name": "Python 3"
    }
  },
  "cells": [
    {
      "cell_type": "markdown",
      "metadata": {
        "id": "6P-xAfhAoeY_",
        "colab_type": "text"
      },
      "source": [
        "Install iapws"
      ]
    },
    {
      "cell_type": "code",
      "metadata": {
        "id": "F5pnnD_oodHx",
        "colab_type": "code",
        "outputId": "0ac61ce7-2415-40d6-9b33-a62fcb3da1e7",
        "colab": {
          "base_uri": "https://localhost:8080/",
          "height": 72
        }
      },
      "source": [
        "!pip install iapws"
      ],
      "execution_count": 18,
      "outputs": [
        {
          "output_type": "stream",
          "text": [
            "Requirement already satisfied: iapws in /usr/local/lib/python3.6/dist-packages (1.4)\n",
            "Requirement already satisfied: scipy in /usr/local/lib/python3.6/dist-packages (from iapws) (1.3.0)\n",
            "Requirement already satisfied: numpy>=1.13.3 in /usr/local/lib/python3.6/dist-packages (from scipy->iapws) (1.16.4)\n"
          ],
          "name": "stdout"
        }
      ]
    },
    {
      "cell_type": "markdown",
      "metadata": {
        "id": "BkAU0ZspouO5",
        "colab_type": "text"
      },
      "source": [
        "all imports"
      ]
    },
    {
      "cell_type": "code",
      "metadata": {
        "id": "SZvE0-53Sz--",
        "colab_type": "code",
        "colab": {}
      },
      "source": [
        "import numpy as np\n",
        "from iapws import iapws97"
      ],
      "execution_count": 0,
      "outputs": []
    },
    {
      "cell_type": "markdown",
      "metadata": {
        "id": "4fgWLz4Ih2fi",
        "colab_type": "text"
      },
      "source": [
        "SI units"
      ]
    },
    {
      "cell_type": "code",
      "metadata": {
        "id": "2HU04Hsth8bm",
        "colab_type": "code",
        "colab": {}
      },
      "source": [
        "class SI:\n",
        "  \n",
        "  SIpfx = {\n",
        "      'G': 10**9,\n",
        "      'M': 10**6,\n",
        "      'k': 10**3,\n",
        "      'h': 10**2,\n",
        "      'da': 10**1,\n",
        "      '1': 1,\n",
        "      'd': 10**-1,\n",
        "      'c': 10**-2,\n",
        "      'm': 10**-3,\n",
        "      'u': 10**-6,\n",
        "    }\n",
        "  \n",
        "  def prefix(pfx):\n",
        "    return SI.SIpfx.get(pfx)"
      ],
      "execution_count": 0,
      "outputs": []
    },
    {
      "cell_type": "markdown",
      "metadata": {
        "id": "WXLxMO4eoyYg",
        "colab_type": "text"
      },
      "source": [
        "Water properties"
      ]
    },
    {
      "cell_type": "code",
      "metadata": {
        "id": "3RlJbDvHTB0K",
        "colab_type": "code",
        "colab": {}
      },
      "source": [
        "pa = 101325/10**6 #MPa\n",
        "TK0 = 273.15\n",
        "\n",
        "def WaterCp(T):\n",
        "  return (iapws97._Region1(T+TK0, pa))[\"cp\"] * 1000 #J/(kg*K)\n",
        "\n",
        "def WaterDensity(T):\n",
        "  return 1/iapws97._Region1(T+TK0, pa)[\"v\"] #kg/m3"
      ],
      "execution_count": 0,
      "outputs": []
    },
    {
      "cell_type": "markdown",
      "metadata": {
        "id": "FquPQA74OHOE",
        "colab_type": "text"
      },
      "source": [
        "Definition of Class \"Heat-transfer fluid\""
      ]
    },
    {
      "cell_type": "code",
      "metadata": {
        "id": "_zdTAgXFP6mi",
        "colab_type": "code",
        "colab": {}
      },
      "source": [
        "class HTF:\n",
        "  def __init__(self, temperature, volflow, type = 'water'):\n",
        "    self.temperature = temperature\n",
        "    self.volflow = volflow\n",
        "    self.type = type\n",
        "    \n",
        "  def __str__(self):\n",
        "    return '%s with %g °C, %g m3/s' % (self.type, self.temperature, self.volflow)\n",
        "  \n",
        "  def getCp(self):\n",
        "    if self.type.lower() == 'water':\n",
        "      return(WaterCp(self.temperature))\n",
        "    else:\n",
        "      return 0\n",
        "    \n",
        "  def getDens(self):\n",
        "    if self.type.lower() == 'water':\n",
        "      return(WaterDensity(self.temperature))\n",
        "    else:\n",
        "      return 0\n",
        "    \n",
        "  def mix(self, other):\n",
        "    self.temperature = (self.temperature * self.volflow +\n",
        "                        other.temperature * other.volflow) / (self.volflow + other.volflow)\n",
        "    self.volflow = self.volflow + other.volflow"
      ],
      "execution_count": 0,
      "outputs": []
    },
    {
      "cell_type": "markdown",
      "metadata": {
        "id": "dmR7zUCIQBIJ",
        "colab_type": "text"
      },
      "source": [
        "Definition of Class \"Efficiency\""
      ]
    },
    {
      "cell_type": "code",
      "metadata": {
        "id": "t_F6pSAAQI2F",
        "colab_type": "code",
        "colab": {}
      },
      "source": [
        "class Efficiency:\n",
        "  def __init__(self, elecEff = 0, fuelEff = 0, htfEff = 0):\n",
        "    self.elecEff = elecEff\n",
        "    self.fuelEff = fuelEff\n",
        "    self.htfEff = htfEff"
      ],
      "execution_count": 0,
      "outputs": []
    },
    {
      "cell_type": "markdown",
      "metadata": {
        "id": "8bQ4eqmNQQit",
        "colab_type": "text"
      },
      "source": [
        "Definition of power classes"
      ]
    },
    {
      "cell_type": "code",
      "metadata": {
        "id": "wv6-lfMOQYEd",
        "colab_type": "code",
        "colab": {}
      },
      "source": [
        "class PowerType:\n",
        "  def __init__(self, value = 0, SIprefix = '1'):\n",
        "    self.value = value * SI.prefix(SIprefix)\n",
        "    \n",
        "  def __add__(self, other):\n",
        "    return type(self)(self.value + other.value)\n",
        "    \n",
        "  def __str__(self):\n",
        "    return '%g W' % (self.value)\n",
        "\n",
        "class ElecPower(PowerType):\n",
        "  pass\n",
        "\n",
        "class FuelPower(PowerType):\n",
        "  pass\n",
        "\n",
        "class HtfPower(PowerType):\n",
        "  pass\n",
        "\n",
        "class Power:\n",
        "  def __init__(self, *pwr_values):\n",
        "    self.elecPower = ElecPower()\n",
        "    self.fuelPower = FuelPower()\n",
        "    self.htfPower = HtfPower()\n",
        "    for pwr in pwr_values:\n",
        "      if type(pwr) is ElecPower:\n",
        "        self.elecPower += pwr\n",
        "      elif type(pwr) is FuelPower:\n",
        "        self.fuelPower += pwr\n",
        "      elif type(pwr) is HtfPower:\n",
        "        self.htfPower += pwr\n",
        "\n",
        "  def all(self):\n",
        "    return (self.elecPower.value + self.fuelPower.value + self.htfPower.value)\n",
        "    \n",
        "  def __mul__(self, other):\n",
        "    if type(other) is Efficiency:\n",
        "      return self.elecPower.value * other.elecEff + self.fuelPower.value * other.fuelEff + self.htfPower.value * other.htfEff\n",
        "    else:\n",
        "      return 0\n",
        "    \n",
        "  def __add__(self, other):\n",
        "    return Power(self.elecPower + other.elecPower, self.fuelPower + other.fuelPower, self.htfPower + other.htfPower)\n",
        "  \n",
        "  def __str__(self):\n",
        "    return '%g W' % (self.elecPower.value + self.fuelPower.value + self.htfPower.value)\n"
      ],
      "execution_count": 0,
      "outputs": []
    },
    {
      "cell_type": "markdown",
      "metadata": {
        "id": "SKvKCw_RQcY6",
        "colab_type": "text"
      },
      "source": [
        "Definition of heat transfer machines classes, definition forward task\n",
        "\n",
        "ToDo: definition reverse task, Heat Pump"
      ]
    },
    {
      "cell_type": "code",
      "metadata": {
        "id": "dZO2HFT1NwNx",
        "colab_type": "code",
        "colab": {}
      },
      "source": [
        "class HTMachine:\n",
        "  # input values: Efficiency efficiency\n",
        "  def __init__(self, efficiency):\n",
        "    self.efficiency = efficiency\n",
        "    self.genEff = 0\n",
        "    self.htfout_min = 0\n",
        "    self.htfout_max = 0\n",
        "    self.pwrin_min = 0\n",
        "    self.pwrin_max = 0\n",
        "\n",
        "  # input values: Power powerin, HTF htfin\n",
        "  # output values: Power powerout, HTF htfout\n",
        "  def forwardtask(self, powerin, htfin):\n",
        "    htfout = htfin\n",
        "    htfout.temperature += powerin * self.efficiency / (htfin.volflow * htfin.getCp() * htfin.getDens())\n",
        "    powerout = Power(ElecPower(powerin.fuelPower.value * self.genEff))\n",
        "    return [powerout, htfout]\n",
        "\n",
        "  #def reversetask (self, t2, htfin):\n",
        "  #  htfout = htfin\n",
        "  #  powerin = htfin.volflow * WaterCp(htfin.temperature)*1000 * WaterDensity(htfin.temperature)*(htfout.temperature-htfin.temperature)\n",
        "  #  t2 = Tout()\n",
        "  #  return (temp)\n",
        "  \n",
        "# Power to heat\n",
        "class P2H_Machine(HTMachine):\n",
        "  # input values: float elecEff\n",
        "  def __init__(self, elecEff):\n",
        "    self.efficiency = Efficiency(elecEff = elecEff)\n",
        "    self.genEff = 0\n",
        "    \n",
        "# Furnace\n",
        "class F_Machine(HTMachine):\n",
        "  # input values: float fuelEff\n",
        "  def __init__(self, fuelEff):\n",
        "    self.efficiency = Efficiency(fuelEff = fuelEff)\n",
        "    self.genEff = 0\n",
        "\n",
        "# Heat pump\n",
        "class HP_Machine(HTMachine):\n",
        "  pass\n",
        "\n",
        "# Cogeneration / combined heat and power\n",
        "class CHP_Machine(HTMachine):\n",
        "  # input values: float fuelEff, float genEff\n",
        "  def __init__(self, fuelEff, genEff):\n",
        "    self.efficiency = Efficiency(fuelEff = fuelEff)\n",
        "    self.genEff = genEff\n",
        "    \n",
        "# Bypass\n",
        "class BP_Machine(HTMachine):\n",
        "  def __init__(self):\n",
        "    self.efficiency = Efficiency()\n",
        "    self.genEff = 0\n",
        "    self.pwrin_max = Power()"
      ],
      "execution_count": 0,
      "outputs": []
    },
    {
      "cell_type": "markdown",
      "metadata": {
        "id": "i66CD4LiBMdq",
        "colab_type": "text"
      },
      "source": [
        "Coupling variations"
      ]
    },
    {
      "cell_type": "code",
      "metadata": {
        "id": "nMqN8IUaveTh",
        "colab_type": "code",
        "colab": {}
      },
      "source": [
        "def computeParallel(htfin, machines):\n",
        "  #check volume flow\n",
        "  htfout_max = HTF(0,0)\n",
        "  for machine in machines:\n",
        "    #print(\"Adding \" + str(machine.htfout_max) + \" to \" + str(htfout_max))\n",
        "    htfout_max.mix(machine.htfout_max)\n",
        "    #print(\"Result \" + str(htfout_max))\n",
        "    #print(\"\")\n",
        "    \n",
        "  if htfout_max.volflow < htfin.volflow:\n",
        "    raise ValueError(\"volume flow is too big\")\n",
        "    \n",
        "  volflow_coeff = htfin.volflow / htfout_max.volflow\n",
        "  \n",
        "  htfout = HTF(0,0) \n",
        "  pwrout = Power()\n",
        "  \n",
        "  for machine in machines:\n",
        "    pwrin_machine = Power(machine.pwrin_max)\n",
        "    print(\"    pwrin_machine \" + str(pwrin_machine))\n",
        "    htfin_machine = HTF(htfin.temperature, machine.htfout_max.volflow * volflow_coeff)\n",
        "    print(\"    htfin_machine \" + str(htfin_machine))\n",
        "    \n",
        "    [pwrout_machine, htfout_machine] = machine.forwardtask(pwrin_machine, htfin_machine)\n",
        "    \n",
        "    print(\"    pwrout_machine \" + str(pwrout_machine))\n",
        "    print(\"    htfout_machine \" + str(htfout_machine))\n",
        "    \n",
        "    pwrout = pwrout + pwrout_machine\n",
        "    \n",
        "    print(\"    Adding \" + str(htfout_machine) + \" to \" + str(htfout))\n",
        "    htfout.mix(htfout_machine)\n",
        "    print(\"    Result \" + str(htfout))\n",
        "    print(\"\")\n",
        "    \n",
        "  return [pwrout, htfout]\n",
        "\n",
        "def computeSeries(htfin, stages):\n",
        "  pwrout = Power()\n",
        "  \n",
        "  htfin_stage = htfin\n",
        "  \n",
        "  for stage in stages:\n",
        "    print(\"  htfin_stage \" + str(htfin_stage))\n",
        "    [pwrout_stage, htfout_stage] = computeParallel(htfin_stage, stage)\n",
        "    print(\"  pwrout_stage \" + str(pwrout_stage))\n",
        "    print(\"  htfout_stage \" + str(htfout_stage))\n",
        "    print(\"\")\n",
        "    \n",
        "    pwrout += pwrout_stage\n",
        "    htfin_stage = htfout_stage\n",
        "    \n",
        "  htfout = htfout_stage\n",
        "  return [pwrout, htfout]"
      ],
      "execution_count": 0,
      "outputs": []
    },
    {
      "cell_type": "markdown",
      "metadata": {
        "id": "XQAb1Xpy_Kh4",
        "colab_type": "text"
      },
      "source": [
        "forward task"
      ]
    },
    {
      "cell_type": "code",
      "metadata": {
        "id": "JdkWaGOao5GK",
        "colab_type": "code",
        "outputId": "466f4f58-daea-4c7a-af58-f401b224d3b3",
        "colab": {
          "base_uri": "https://localhost:8080/",
          "height": 990
        }
      },
      "source": [
        "# Example configuration\n",
        "\n",
        "htfin=HTF(70,0.077)\n",
        "\n",
        "p2h_1 = P2H_Machine(1.0)\n",
        "p2h_1.pwrin_max = ElecPower(100,\"k\")\n",
        "p2h_1.htfout_max = HTF(999, 0.1)\n",
        "\n",
        "p2h_2 = P2H_Machine(1.0)\n",
        "p2h_2.pwrin_max = ElecPower(50,\"k\")\n",
        "p2h_1.htfout_max = HTF(999, 0.1)\n",
        "\n",
        "fur_1 = F_Machine(0.92)\n",
        "fur_1.pwrin_max = FuelPower(6.52, \"M\")\n",
        "fur_1.htfout_max = HTF(999, 0.057)\n",
        "\n",
        "fur_2 = F_Machine(0.92)\n",
        "fur_2.pwrin_max = FuelPower(5.44, \"M\")\n",
        "fur_2.htfout_max = HTF(999, 0.047)\n",
        "\n",
        "chp_1 = CHP_Machine(0.489, 0.411)\n",
        "chp_1.pwrin_max = FuelPower(2, \"M\")\n",
        "chp_1.htfout_max = HTF(999, 0.010)\n",
        "\n",
        "chp_2 = CHP_Machine(0.499, 0.407)\n",
        "chp_2.pwrin_max = FuelPower(2.42, \"M\")\n",
        "chp_2.htfout_max = HTF(999, 0.0103)\n",
        "\n",
        "bps_1 = BP_Machine()\n",
        "bps_1.htfout_max = HTF(999, 0.01)\n",
        "\n",
        "bps_2 = BP_Machine()\n",
        "bps_2.htfout_max = HTF(999, 0.0197)\n",
        "\n",
        "print(\"htfin \" + str(htfin))\n",
        "\n",
        "stage_1 = [chp_1, fur_1, bps_1]\n",
        "stage_2 = [chp_2, fur_2, bps_2]\n",
        "\n",
        "[pwrout, htfout] = computeSeries(htfin, [stage_1, stage_2])\n",
        "print(\"pwrout \" + str(pwrout))\n",
        "print(\"htfout \" + str(htfout))\n"
      ],
      "execution_count": 27,
      "outputs": [
        {
          "output_type": "stream",
          "text": [
            "htfin water with 70 °C, 0.077 m3/s\n",
            "  htfin_stage water with 70 °C, 0.077 m3/s\n",
            "    pwrin_machine 2e+06 W\n",
            "    htfin_machine water with 70 °C, 0.01 m3/s\n",
            "    pwrout_machine 822000 W\n",
            "    htfout_machine water with 93.8826 °C, 0.01 m3/s\n",
            "    Adding water with 93.8826 °C, 0.01 m3/s to water with 0 °C, 0 m3/s\n",
            "    Result water with 93.8826 °C, 0.01 m3/s\n",
            "\n",
            "    pwrin_machine 6.52e+06 W\n",
            "    htfin_machine water with 70 °C, 0.057 m3/s\n",
            "    pwrout_machine 0 W\n",
            "    htfout_machine water with 95.6982 °C, 0.057 m3/s\n",
            "    Adding water with 95.6982 °C, 0.057 m3/s to water with 93.8826 °C, 0.01 m3/s\n",
            "    Result water with 95.4272 °C, 0.067 m3/s\n",
            "\n",
            "    pwrin_machine 0 W\n",
            "    htfin_machine water with 70 °C, 0.01 m3/s\n",
            "    pwrout_machine 0 W\n",
            "    htfout_machine water with 70 °C, 0.01 m3/s\n",
            "    Adding water with 70 °C, 0.01 m3/s to water with 95.4272 °C, 0.067 m3/s\n",
            "    Result water with 92.125 °C, 0.077 m3/s\n",
            "\n",
            "  pwrout_stage 822000 W\n",
            "  htfout_stage water with 92.125 °C, 0.077 m3/s\n",
            "\n",
            "  htfin_stage water with 92.125 °C, 0.077 m3/s\n",
            "    pwrin_machine 2.42e+06 W\n",
            "    htfin_machine water with 92.125 °C, 0.0103 m3/s\n",
            "    pwrout_machine 984940 W\n",
            "    htfout_machine water with 121.035 °C, 0.0103 m3/s\n",
            "    Adding water with 121.035 °C, 0.0103 m3/s to water with 0 °C, 0 m3/s\n",
            "    Result water with 121.035 °C, 0.0103 m3/s\n",
            "\n",
            "    pwrin_machine 5.44e+06 W\n",
            "    htfin_machine water with 92.125 °C, 0.047 m3/s\n",
            "    pwrout_machine 0 W\n",
            "    htfout_machine water with 118.383 °C, 0.047 m3/s\n",
            "    Adding water with 118.383 °C, 0.047 m3/s to water with 121.035 °C, 0.0103 m3/s\n",
            "    Result water with 118.86 °C, 0.0573 m3/s\n",
            "\n",
            "    pwrin_machine 0 W\n",
            "    htfin_machine water with 92.125 °C, 0.0197 m3/s\n",
            "    pwrout_machine 0 W\n",
            "    htfout_machine water with 92.125 °C, 0.0197 m3/s\n",
            "    Adding water with 92.125 °C, 0.0197 m3/s to water with 118.86 °C, 0.0573 m3/s\n",
            "    Result water with 112.02 °C, 0.077 m3/s\n",
            "\n",
            "  pwrout_stage 984940 W\n",
            "  htfout_stage water with 112.02 °C, 0.077 m3/s\n",
            "\n",
            "pwrout 1.80694e+06 W\n",
            "htfout water with 112.02 °C, 0.077 m3/s\n"
          ],
          "name": "stdout"
        }
      ]
    }
  ]
}