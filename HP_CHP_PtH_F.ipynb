{
  "nbformat": 4,
  "nbformat_minor": 0,
  "metadata": {
    "colab": {
      "name": "HP_CHP_PtH_F.ipynb",
      "version": "0.3.2",
      "provenance": [],
      "collapsed_sections": [],
      "include_colab_link": true
    },
    "kernelspec": {
      "name": "python3",
      "display_name": "Python 3"
    }
  },
  "cells": [
    {
      "cell_type": "markdown",
      "metadata": {
        "id": "view-in-github",
        "colab_type": "text"
      },
      "source": [
        "<a href=\"https://colab.research.google.com/github/msbonus/swhp/blob/master/HP_CHP_PtH_F.ipynb\" target=\"_parent\"><img src=\"https://colab.research.google.com/assets/colab-badge.svg\" alt=\"Open In Colab\"/></a>"
      ]
    },
    {
      "cell_type": "markdown",
      "metadata": {
        "id": "6P-xAfhAoeY_",
        "colab_type": "text"
      },
      "source": [
        "Install iapws"
      ]
    },
    {
      "cell_type": "code",
      "metadata": {
        "id": "F5pnnD_oodHx",
        "colab_type": "code",
        "colab": {}
      },
      "source": [
        "!pip install iapws"
      ],
      "execution_count": 0,
      "outputs": []
    },
    {
      "cell_type": "markdown",
      "metadata": {
        "id": "BkAU0ZspouO5",
        "colab_type": "text"
      },
      "source": [
        "all imports"
      ]
    },
    {
      "cell_type": "code",
      "metadata": {
        "id": "SZvE0-53Sz--",
        "colab_type": "code",
        "colab": {}
      },
      "source": [
        "import numpy as np\n",
        "import copy\n",
        "from enum import Enum\n",
        "from iapws import iapws97"
      ],
      "execution_count": 0,
      "outputs": []
    },
    {
      "cell_type": "markdown",
      "metadata": {
        "id": "4fgWLz4Ih2fi",
        "colab_type": "text"
      },
      "source": [
        "SI units"
      ]
    },
    {
      "cell_type": "code",
      "metadata": {
        "id": "2HU04Hsth8bm",
        "colab_type": "code",
        "colab": {}
      },
      "source": [
        "class SI:\n",
        "  SIpfx = {\n",
        "      'G': 10**9,\n",
        "      'M': 10**6,\n",
        "      'k': 10**3,\n",
        "      'h': 10**2,\n",
        "      'da': 10**1,\n",
        "      '1': 1,\n",
        "      'd': 10**-1,\n",
        "      'c': 10**-2,\n",
        "      'm': 10**-3,\n",
        "      'u': 10**-6,\n",
        "    }\n",
        "  \n",
        "  def prefix(pfx):\n",
        "    return SI.SIpfx.get(pfx)\n",
        "  \n",
        "  def fmt(value):\n",
        "    for pfx in SI.SIpfx:\n",
        "      sipow = SI.SIpfx.get(pfx)\n",
        "      if (np.log10(sipow) % 3 == 0):\n",
        "        if (pfx == \"1\"): pfx = \"\"\n",
        "        if abs(value) >= sipow: return \"%g %s\" % (value / sipow, pfx)"
      ],
      "execution_count": 0,
      "outputs": []
    },
    {
      "cell_type": "code",
      "metadata": {
        "id": "96RXb9cboZVQ",
        "colab_type": "code",
        "colab": {}
      },
      "source": [
        "class CIndent:\n",
        "  elem = \"  \"\n",
        "  \n",
        "  def __init__(self, ind = \"\"):\n",
        "    self.ind = ind\n",
        "    \n",
        "  def __str__(self):\n",
        "    return self.ind\n",
        "    \n",
        "  def __add__(self, other):\n",
        "    return self.ind + other\n",
        "    \n",
        "  def inc(self):\n",
        "    self.ind += CIndent.elem\n",
        "    \n",
        "  def dec(self):\n",
        "    self.ind = self.ind[0:-len(CIndent.elem)]\n",
        "\n",
        "  def reset(self):\n",
        "    self.ind = \"\"\n",
        "    \n",
        "cind = CIndent()"
      ],
      "execution_count": 0,
      "outputs": []
    },
    {
      "cell_type": "code",
      "metadata": {
        "id": "JOfoZG4OlAWB",
        "colab_type": "code",
        "colab": {}
      },
      "source": [
        "def isNone(*vars, strict = False):\n",
        "  if strict:\n",
        "    for var in vars:\n",
        "      if not (var is None): return False\n",
        "    return True\n",
        "  else:\n",
        "    for var in vars:\n",
        "      if (var is None): return True\n",
        "    return False\n",
        "  \n",
        "def dropNone(*vars):\n",
        "  ret = list()\n",
        "  for var in vars:\n",
        "    if not (var is None): ret.append(var)\n",
        "  return ret"
      ],
      "execution_count": 0,
      "outputs": []
    },
    {
      "cell_type": "markdown",
      "metadata": {
        "id": "WXLxMO4eoyYg",
        "colab_type": "text"
      },
      "source": [
        "Water properties"
      ]
    },
    {
      "cell_type": "code",
      "metadata": {
        "id": "3RlJbDvHTB0K",
        "colab_type": "code",
        "colab": {}
      },
      "source": [
        "pa = 101325/10**6 #MPa\n",
        "TK0 = 273.15\n",
        "\n",
        "def WaterCp(T):\n",
        "  return (iapws97._Region1(T+TK0, pa))[\"cp\"] * 1000 #J/(kg*K)\n",
        "\n",
        "def WaterDensity(T):\n",
        "  return 1/iapws97._Region1(T+TK0, pa)[\"v\"] #kg/m3"
      ],
      "execution_count": 0,
      "outputs": []
    },
    {
      "cell_type": "markdown",
      "metadata": {
        "id": "FquPQA74OHOE",
        "colab_type": "text"
      },
      "source": [
        "Definition of Class \"Heat-transfer fluid\""
      ]
    },
    {
      "cell_type": "code",
      "metadata": {
        "id": "_zdTAgXFP6mi",
        "colab_type": "code",
        "colab": {}
      },
      "source": [
        "class HTF:\n",
        "  def __init__(self, temperature = None, volflow = None, type = 'water'):\n",
        "    self.temperature = temperature\n",
        "    self.volflow = volflow\n",
        "    self.type = type.lower()\n",
        "    \n",
        "  def __str__(self):\n",
        "    return '%s at %g °C, %g m3/s' % (self.type, self.temperature, self.volflow)\n",
        "  \n",
        "  def __eq__(self, other):\n",
        "    return ((self.type == other.type) and\n",
        "           (self.temperature == other.temperature) and\n",
        "           (self.volflow == other.volflow))\n",
        "  \n",
        "  def __gt__(self, other):\n",
        "    return ((self.type == other.type) and\n",
        "           (not isNone(self.temperature, other.temperature) and (self.temperature > other.temperature)) or\n",
        "           (not isNone(self.volflow, other.volflow) and (self.volflow > other.volflow)))\n",
        "  \n",
        "  def __lt__(self, other):\n",
        "    return ((self.type == other.type) and\n",
        "           (not isNone(self.temperature, other.temperature) and (self.temperature < other.temperature)) or\n",
        "           (not isNone(self.volflow, other.volflow) and (self.volflow < other.volflow)))\n",
        "  \n",
        "  def __add__(self, other):\n",
        "    if isNone(self.temperature, self.volflow, strict = True):\n",
        "      return HTF(other.temperature, other.volflow)\n",
        "    elif isNone(other.temperature, other.volflow, strict = True):\n",
        "      return HTF(self.temperature, self.volflow)\n",
        "    else:\n",
        "      print(cind + \"Mixing \" + str(self) + \" with \" + str(other), end=\"\")\n",
        "      temperature = (self.temperature * self.volflow +\n",
        "                        other.temperature * other.volflow) / (self.volflow + other.volflow)\n",
        "      volflow = self.volflow + other.volflow\n",
        "      htfout = HTF(temperature, volflow)\n",
        "      print(\" -> \" + str(htfout))\n",
        "      return htfout\n",
        "  \n",
        "  def __sub__(self, other):\n",
        "    if (self.temperature != other.temperature):\n",
        "      raise ValueError(\"temperatures should match to subtract the flows\")\n",
        "    return HTF(self.temperature, self.volflow - other.volflow)\n",
        "  \n",
        "  def min(self, other):\n",
        "    return HTF(min(dropNone(self.temperature, other.temperature)), min(dropNone(self.volflow, other.volflow)))\n",
        "  \n",
        "  def max(self, other):\n",
        "    return HTF(max(dropNone(self.temperature, other.temperature)), max(dropNone(self.volflow, other.volflow)))\n",
        "  \n",
        "  def getCp(self):\n",
        "    if self.type == 'water':\n",
        "      return(WaterCp(self.temperature))\n",
        "    else:\n",
        "      return 0\n",
        "    \n",
        "  def getDens(self):\n",
        "    if self.type == 'water':\n",
        "      return(WaterDensity(self.temperature))\n",
        "    else:\n",
        "      return 0"
      ],
      "execution_count": 0,
      "outputs": []
    },
    {
      "cell_type": "markdown",
      "metadata": {
        "id": "dmR7zUCIQBIJ",
        "colab_type": "text"
      },
      "source": [
        "Definition of Class \"Efficiency\""
      ]
    },
    {
      "cell_type": "code",
      "metadata": {
        "id": "t_F6pSAAQI2F",
        "colab_type": "code",
        "colab": {}
      },
      "source": [
        "class Efficiency:\n",
        "  def __init__(self, elecEff = 0, fuelEff = 0):\n",
        "    self.elecEff = elecEff\n",
        "    self.fuelEff = fuelEff"
      ],
      "execution_count": 0,
      "outputs": []
    },
    {
      "cell_type": "markdown",
      "metadata": {
        "id": "8bQ4eqmNQQit",
        "colab_type": "text"
      },
      "source": [
        "Definition of power classes"
      ]
    },
    {
      "cell_type": "code",
      "metadata": {
        "id": "wv6-lfMOQYEd",
        "colab_type": "code",
        "colab": {}
      },
      "source": [
        "class PowerType:\n",
        "  def __init__(self, value = 0, SIprefix = '1'):\n",
        "    self.value = value * SI.prefix(SIprefix)\n",
        "    \n",
        "  def __add__(self, other):\n",
        "    return type(self)(self.value + other.value)\n",
        "\n",
        "  def __sub__(self, other):\n",
        "    return type(self)(self.value - other.value)\n",
        "  \n",
        "  def __mul__(self, other):\n",
        "    return type(self)(self.value * other)\n",
        "  \n",
        "  def __str__(self):\n",
        "    return \"%s %sW\" % (type(self).__name__, SI.fmt(self.value))\n",
        "\n",
        "class ElecPower(PowerType):\n",
        "  pass\n",
        "\n",
        "class FuelPower(PowerType):\n",
        "  pass\n",
        "\n",
        "class Power:\n",
        "  def __init__(self, *pwr_values):\n",
        "    self.elecPower = ElecPower()\n",
        "    self.fuelPower = FuelPower()\n",
        "    for pwr in pwr_values:\n",
        "      if type(pwr) is ElecPower:\n",
        "        self.elecPower += pwr\n",
        "      elif type(pwr) is FuelPower:\n",
        "        self.fuelPower += pwr\n",
        "\n",
        "  def all(self):\n",
        "    return (self.elecPower.value + self.fuelPower.value)\n",
        "\n",
        "  # Multiplying Power by efficiency in forward task \n",
        "  def __mul__(self, other):\n",
        "    if type(other) is Efficiency:\n",
        "      return self.elecPower.value * other.elecEff + self.fuelPower.value * other.fuelEff\n",
        "    else:\n",
        "      return 0\n",
        "    \n",
        "  def __add__(self, other):\n",
        "    return Power(self.elecPower + other.elecPower, self.fuelPower + other.fuelPower)\n",
        "  \n",
        "  def __sub__(self, other):\n",
        "    return Power(self.elecPower - other.elecPower, self.fuelPower - other.fuelPower)\n",
        "  \n",
        "  def __str__(self):\n",
        "    val = \"\"\n",
        "    for pwr in [self.elecPower, self.fuelPower]:\n",
        "      if (pwr.value !=0):\n",
        "        if (val != \"\"): val += \", \"\n",
        "        val += str(pwr)\n",
        "    if (val != \"\"):\n",
        "      return val\n",
        "    else:\n",
        "      return \"None\"\n"
      ],
      "execution_count": 0,
      "outputs": []
    },
    {
      "cell_type": "markdown",
      "metadata": {
        "id": "SKvKCw_RQcY6",
        "colab_type": "text"
      },
      "source": [
        "Definition of heat transfer machines classes, definition forward task\n",
        "\n",
        "ToDo: definition reverse task, Heat Pump"
      ]
    },
    {
      "cell_type": "code",
      "metadata": {
        "id": "gkhaTuKQSpEu",
        "colab_type": "code",
        "colab": {}
      },
      "source": [
        "class EItem:\n",
        "  def __init__(self):\n",
        "    self.active = True\n",
        "    \n",
        "    self.pwr = None\n",
        "    self.pwr_factor = 1\n",
        "    self.htfin = None\n",
        "    self.htfout = None\n",
        "    \n",
        "    self.htfin_min = HTF()\n",
        "    self.htfin_max = HTF()\n",
        "    \n",
        "    self.htfout_min = HTF()\n",
        "    self.htfout_max = HTF()\n",
        "    \n",
        "    self.label = None"
      ],
      "execution_count": 0,
      "outputs": []
    },
    {
      "cell_type": "code",
      "metadata": {
        "id": "dZO2HFT1NwNx",
        "colab_type": "code",
        "colab": {}
      },
      "source": [
        "class EMachine(EItem):\n",
        "  # input values: Efficiency efficiency\n",
        "  def __init__(self, efficiency):\n",
        "    super().__init__()\n",
        "    \n",
        "    self.efficiency = efficiency\n",
        "    self.genEff = 0\n",
        "    \n",
        "    self.pwrin_min = 0\n",
        "    self.pwrin_max = 0\n",
        "\n",
        "  # defined values: HTF htfin\n",
        "  # calculated values: Power pwr, HTF htfout\n",
        "  def forwardtask(self):\n",
        "    # power consumption\n",
        "    self.pwruse = Power(self.pwrin_max * self.pwr_factor)\n",
        "    # htf input with volume flow limited by htfin_max and htfout_max\n",
        "    self.htfin.volflow = min(dropNone(self.htfin.volflow, self.htfin_max.volflow, self.htfout_max.volflow))\n",
        "    \n",
        "    # htf output is an input...\n",
        "    self.htfout = HTF() + self.htfin\n",
        "    # ...plus temperature raise\n",
        "    self.htfout.temperature += self.pwruse * self.efficiency / (self.htfin.volflow * self.htfin.getDens() * self.htfin.getCp())\n",
        "    \n",
        "    # power generation\n",
        "    self.pwrgen = Power(ElecPower(self.pwruse.fuelPower.value * self.genEff))\n",
        "    \n",
        "    # power balance\n",
        "    self.pwr = self.pwrgen - self.pwruse\n",
        "\n",
        "  def splitOutput(pwr, efficiency):\n",
        "    elecPwr = ElecPower(pwr / efficiency.elecEff) if efficiency.elecEff != 0 else 0\n",
        "    fuelPwr = FuelPower(pwr / efficiency.fuelEff) if efficiency.fuelEff != 0 else 0\n",
        "    return Power(elecPwr, fuelPwr)\n",
        "    \n",
        "  # defined values: HTF htfin, HTF htfout\n",
        "  # calculated values: Power pwrin, Power pwrout\n",
        "  def reversetask(self):\n",
        "    pwr = (self.htfin.volflow * self.htfin.getDens() * self.htfin.getCp()) * (self.htfout.temperature - self.htfin.temperature)\n",
        "    self.pwrin = HTMachine.splitOutput(pwr, self.efficiency)\n",
        "    self.pwrout = Power(ElecPower(self.pwrin.fuelPower.value * self.genEff))\n",
        "  \n",
        "  def run(self):\n",
        "    if ((self.pwr_factor == 0) or (self.htfin.volflow == 0)):\n",
        "      self.active = False\n",
        "      \n",
        "    if (self.active):\n",
        "      print(cind + \"Running \" + type(self).__name__ + \" \" + self.label)\n",
        "      if (not isNone(self.htfin, self.htfout)):\n",
        "        print(cind + \"Attempting reverse task\")\n",
        "        self.reversetask()\n",
        "      elif (not isNone(self.htfin)):\n",
        "        print(cind + \"Attempting forward task\")\n",
        "        self.forwardtask()\n",
        "      else:\n",
        "        raise ValueError(\"not enough input for machine\")\n",
        "      print(cind + \"Input: \" + str(self.htfin) + \", output: \" + str(self.htfout))\n",
        "      print(cind + \"Energy balance: \" + str(self.pwr))\n",
        "    else:\n",
        "      print(cind + type(self).__name__ + \" \" + self.label + \" is not active\")\n",
        "      self.pwr = Power()\n",
        "      self.pwr_factor = 0\n",
        "      self.htfin = HTF()\n",
        "      self.htfout = HTF()\n",
        "       \n",
        "  \n",
        "# Power to heat\n",
        "class P2H_Machine(EMachine):\n",
        "  # input values: float elecEff\n",
        "  def __init__(self, elecEff):\n",
        "    super().__init__(Efficiency(elecEff = elecEff))\n",
        "    \n",
        "# Furnace\n",
        "class F_Machine(EMachine):\n",
        "  # input values: float fuelEff\n",
        "  def __init__(self, fuelEff):\n",
        "    super().__init__(Efficiency(fuelEff = fuelEff))\n",
        "\n",
        "# Heat pump\n",
        "class HP_Machine(EMachine):\n",
        "  pass\n",
        "\n",
        "# Cogeneration / combined heat and power\n",
        "class CHP_Machine(EMachine):\n",
        "  # input values: float fuelEff, float genEff\n",
        "  def __init__(self, fuelEff, genEff):\n",
        "    super().__init__(Efficiency(fuelEff = fuelEff))\n",
        "    self.genEff = genEff\n",
        "    \n",
        "# Bypass\n",
        "class BP_Machine(EMachine):\n",
        "  def __init__(self):\n",
        "    super().__init__(Efficiency())\n",
        "    self.pwrin_max = Power()"
      ],
      "execution_count": 0,
      "outputs": []
    },
    {
      "cell_type": "markdown",
      "metadata": {
        "id": "i66CD4LiBMdq",
        "colab_type": "text"
      },
      "source": [
        "Coupling variations"
      ]
    },
    {
      "cell_type": "code",
      "metadata": {
        "id": "nMqN8IUaveTh",
        "colab_type": "code",
        "colab": {}
      },
      "source": [
        "class EConnection(EItem):\n",
        "  def __init__(self, *elements, connection):\n",
        "    super().__init__()\n",
        "    \n",
        "    self.elements = list()\n",
        "    self.connection = connection.lower()\n",
        "    \n",
        "    for element in elements:\n",
        "      self.elements.append(element)\n",
        "\n",
        "  def computeParallel(self):\n",
        "    self.htfout = HTF()\n",
        "    self.pwr = Power()\n",
        "    \n",
        "    # pwr input for the first element\n",
        "    htfin_res = HTF() + self.htfin\n",
        "\n",
        "    for element in self.elements:\n",
        "      # htf as input \n",
        "      element.htfin = HTF() + htfin_res\n",
        "      element.run()\n",
        "\n",
        "      # pwr balance\n",
        "      self.pwr += element.pwr\n",
        "      # mix htf output\n",
        "      self.htfout += element.htfout\n",
        "      \n",
        "      # subtract used htf\n",
        "      htfin_res -= element.htfin\n",
        "      \n",
        "      print(\"\")\n",
        "\n",
        "    if (htfin_res.volflow != 0):\n",
        "      print (cind + \"Rejected \" + str(htfin_res))\n",
        "      self.htfin -= htfin_res\n",
        "\n",
        "  def computeSeries(self):\n",
        "    self.pwr = Power()\n",
        "\n",
        "    htfin_element = HTF(self.htfin.temperature, \n",
        "                       min(dropNone(self.htfin.volflow, self.htfin_max.volflow, self.htfout_max.volflow)))\n",
        "\n",
        "    for element in self.elements:\n",
        "      \n",
        "      element.htfin = HTF() + htfin_element\n",
        "      \n",
        "      element.run()\n",
        "\n",
        "      self.pwr += element.pwr\n",
        "      htfin_res = htfin_element - element.htfin\n",
        "      htfin_element = element.htfout + htfin_res\n",
        "\n",
        "    self.htfout = htfin_element\n",
        "  \n",
        "  def run(self):\n",
        "    print(cind + \"Running \" + self.connection + \" \" + type(self).__name__ + \" \" + self.label)\n",
        "    cind.inc()\n",
        "    if (self.connection[0] == \"p\"):\n",
        "      self.computeParallel()\n",
        "    elif (self.connection[0] == \"s\"):\n",
        "      self.computeSeries()\n",
        "    else:\n",
        "      raise ValueError(\"connection unknown\")\n",
        "    cind.dec()\n",
        "    print(cind + \"Input: \" + str(self.htfin) + \", output: \" + str(self.htfout))\n",
        "    print(cind + \"Energy balance: \" + str(self.pwr))\n",
        "    print(\"\")"
      ],
      "execution_count": 0,
      "outputs": []
    },
    {
      "cell_type": "markdown",
      "metadata": {
        "id": "XQAb1Xpy_Kh4",
        "colab_type": "text"
      },
      "source": [
        "forward task"
      ]
    },
    {
      "cell_type": "code",
      "metadata": {
        "id": "JdkWaGOao5GK",
        "colab_type": "code",
        "outputId": "92442da6-1c60-4f21-a32b-6498b2d7c229",
        "colab": {
          "base_uri": "https://localhost:8080/",
          "height": 1000
        }
      },
      "source": [
        "# Example configuration\n",
        "\n",
        "htfin = HTF(70,0.09)\n",
        "cind.reset()\n",
        "\n",
        "p2h_1 = P2H_Machine(1.0)\n",
        "p2h_1.label = \"P2H_1\"\n",
        "p2h_1.pwrin_max = ElecPower(100,\"k\")\n",
        "p2h_1.htfout_max = HTF(999, 0.01)\n",
        "\n",
        "p2h_2 = P2H_Machine(1.0)\n",
        "p2h_2.label = \"P2H_2\"\n",
        "p2h_2.pwrin_max = ElecPower(50,\"k\")\n",
        "p2h_2.htfout_max = HTF(999, 0.01)\n",
        "\n",
        "fur_1 = F_Machine(0.92)\n",
        "fur_1.label = \"FUR_1\"\n",
        "fur_1.pwrin_max = FuelPower(6.52, \"M\")\n",
        "fur_1.htfout_max = HTF(999, 0.057)\n",
        "\n",
        "fur_2 = F_Machine(0.92)\n",
        "fur_2.label = \"FUR_2\"\n",
        "fur_2.pwrin_max = FuelPower(5.44, \"M\")\n",
        "fur_2.htfout_max = HTF(999, 0.047)\n",
        "\n",
        "chp_1 = CHP_Machine(0.489, 0.411)\n",
        "chp_1.label = \"CHP_1\"\n",
        "chp_1.pwrin_max = FuelPower(2, \"M\")\n",
        "chp_1.htfout_max = HTF(999, 0.010)\n",
        "\n",
        "chp_2 = CHP_Machine(0.499, 0.407)\n",
        "chp_2.label = \"CHP_2\"\n",
        "chp_2.pwrin_max = FuelPower(2.42, \"M\")\n",
        "chp_2.htfout_max = HTF(999, 0.0103)\n",
        "\n",
        "bps_1 = BP_Machine()\n",
        "bps_1.label = \"BPS_1\"\n",
        "bps_1.htfout_max = HTF(999, 0.02)\n",
        "\n",
        "bps_2 = BP_Machine()\n",
        "bps_2.label = \"BPS_2\"\n",
        "bps_2.htfout_max = HTF(999, 0.0097)\n",
        "\n",
        "stage_1_1 = EConnection(chp_1, fur_1, connection = \"parallel\")\n",
        "stage_1_1.label = \"STAGE_1_1\"\n",
        "stage_1_2i = EConnection(p2h_1, p2h_2, connection = \"parallel\")\n",
        "stage_1_2i.label = \"STAGE_1_2I\"\n",
        "stage_1_2 = EConnection(chp_2, fur_2, stage_1_2i, connection = \"parallel\")\n",
        "stage_1_2.label = \"STAGE_1_2\"\n",
        "\n",
        "system_1 = EConnection(stage_1_1, stage_1_2, connection = \"serial\")\n",
        "system_1.label = \"SYSTEM_1\"\n",
        "system_1.htfin = htfin\n",
        "system_1.run()\n"
      ],
      "execution_count": 13,
      "outputs": [
        {
          "output_type": "stream",
          "text": [
            "Running serial EConnection SYSTEM_1\n",
            "  Running parallel EConnection STAGE_1_1\n",
            "    Running CHP_Machine CHP_1\n",
            "    Attempting forward task\n",
            "    Input: water at 70 °C, 0.01 m3/s, output: water at 93.8826 °C, 0.01 m3/s\n",
            "    Energy balance: ElecPower 822 kW, FuelPower -2 MW\n",
            "\n",
            "    Running F_Machine FUR_1\n",
            "    Attempting forward task\n",
            "    Input: water at 70 °C, 0.057 m3/s, output: water at 95.6982 °C, 0.057 m3/s\n",
            "    Energy balance: FuelPower -6.52 MW\n",
            "    Mixing water at 93.8826 °C, 0.01 m3/s with water at 95.6982 °C, 0.057 m3/s -> water at 95.4272 °C, 0.067 m3/s\n",
            "\n",
            "    Rejected water at 70 °C, 0.023 m3/s\n",
            "  Input: water at 70 °C, 0.067 m3/s, output: water at 95.4272 °C, 0.067 m3/s\n",
            "  Energy balance: ElecPower 822 kW, FuelPower -8.52 MW\n",
            "\n",
            "  Mixing water at 95.4272 °C, 0.067 m3/s with water at 70 °C, 0.023 m3/s -> water at 88.9292 °C, 0.09 m3/s\n",
            "  Running parallel EConnection STAGE_1_2\n",
            "    Running CHP_Machine CHP_2\n",
            "    Attempting forward task\n",
            "    Input: water at 88.9292 °C, 0.0103 m3/s, output: water at 117.798 °C, 0.0103 m3/s\n",
            "    Energy balance: ElecPower 984.94 kW, FuelPower -2.42 MW\n",
            "\n",
            "    Running F_Machine FUR_2\n",
            "    Attempting forward task\n",
            "    Input: water at 88.9292 °C, 0.047 m3/s, output: water at 115.15 °C, 0.047 m3/s\n",
            "    Energy balance: FuelPower -5.44 MW\n",
            "    Mixing water at 117.798 °C, 0.0103 m3/s with water at 115.15 °C, 0.047 m3/s -> water at 115.626 °C, 0.0573 m3/s\n",
            "\n",
            "    Running parallel EConnection STAGE_1_2I\n",
            "      Running P2H_Machine P2H_1\n",
            "      Attempting forward task\n",
            "      Input: water at 88.9292 °C, 0.01 m3/s, output: water at 91.3915 °C, 0.01 m3/s\n",
            "      Energy balance: ElecPower -100 kW\n",
            "\n",
            "      Running P2H_Machine P2H_2\n",
            "      Attempting forward task\n",
            "      Input: water at 88.9292 °C, 0.01 m3/s, output: water at 90.1604 °C, 0.01 m3/s\n",
            "      Energy balance: ElecPower -50 kW\n",
            "      Mixing water at 91.3915 °C, 0.01 m3/s with water at 90.1604 °C, 0.01 m3/s -> water at 90.7759 °C, 0.02 m3/s\n",
            "\n",
            "      Rejected water at 88.9292 °C, 0.0127 m3/s\n",
            "    Input: water at 88.9292 °C, 0.02 m3/s, output: water at 90.7759 °C, 0.02 m3/s\n",
            "    Energy balance: ElecPower -150 kW\n",
            "\n",
            "    Mixing water at 115.626 °C, 0.0573 m3/s with water at 90.7759 °C, 0.02 m3/s -> water at 109.196 °C, 0.0773 m3/s\n",
            "\n",
            "    Rejected water at 88.9292 °C, 0.0127 m3/s\n",
            "  Input: water at 88.9292 °C, 0.0773 m3/s, output: water at 109.196 °C, 0.0773 m3/s\n",
            "  Energy balance: ElecPower 834.94 kW, FuelPower -7.86 MW\n",
            "\n",
            "  Mixing water at 109.196 °C, 0.0773 m3/s with water at 88.9292 °C, 0.0127 m3/s -> water at 106.336 °C, 0.09 m3/s\n",
            "Input: water at 70 °C, 0.09 m3/s, output: water at 106.336 °C, 0.09 m3/s\n",
            "Energy balance: ElecPower 1.65694 MW, FuelPower -16.38 MW\n",
            "\n"
          ],
          "name": "stdout"
        }
      ]
    }
  ]
}