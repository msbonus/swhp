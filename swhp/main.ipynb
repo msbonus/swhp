{
  "nbformat": 4,
  "nbformat_minor": 0,
  "metadata": {
    "colab": {
      "name": "main.ipynb",
      "provenance": [],
      "collapsed_sections": []
    },
    "kernelspec": {
      "name": "python3",
      "display_name": "Python 3"
    }
  },
  "cells": [
    {
      "cell_type": "markdown",
      "metadata": {
        "id": "UnZkzPNZjhtM",
        "colab_type": "text"
      },
      "source": [
        "Install iapws"
      ]
    },
    {
      "cell_type": "code",
      "metadata": {
        "id": "RqxprU7ARAlw",
        "colab_type": "code",
        "colab": {}
      },
      "source": [
        "!pip install iapws"
      ],
      "execution_count": 0,
      "outputs": []
    },
    {
      "cell_type": "markdown",
      "metadata": {
        "id": "9YHK9-pl1NHa",
        "colab_type": "text"
      },
      "source": [
        "Download data files"
      ]
    },
    {
      "cell_type": "code",
      "metadata": {
        "id": "Su2TV9io1MXf",
        "colab_type": "code",
        "colab": {}
      },
      "source": [
        "!wget https://raw.githubusercontent.com/msbonus/swhp/master/SWHP.csv\n",
        "!wget https://raw.githubusercontent.com/msbonus/swhp/master/Water.csv\n",
        "\n",
        "#Download and save the notebook as html\n",
        "#!wget https://raw.githubusercontent.com/msbonus/swhp/master/main.ipynb\n",
        "#!jupyter nbconvert --to html main.ipynb"
      ],
      "execution_count": 0,
      "outputs": []
    },
    {
      "cell_type": "markdown",
      "metadata": {
        "id": "4AcyAjXR0UU3",
        "colab_type": "text"
      },
      "source": [
        "all imports"
      ]
    },
    {
      "cell_type": "code",
      "metadata": {
        "id": "U19ld_cpz6sJ",
        "colab_type": "code",
        "colab": {}
      },
      "source": [
        "import numpy as np\n",
        "from iapws import iapws97\n",
        "import csv\n",
        "import matplotlib.pyplot as plt"
      ],
      "execution_count": 0,
      "outputs": []
    },
    {
      "cell_type": "markdown",
      "metadata": {
        "id": "twvtg65aReQk",
        "colab_type": "text"
      },
      "source": [
        "Water properties"
      ]
    },
    {
      "cell_type": "code",
      "metadata": {
        "id": "Vob5H6cGc8XG",
        "colab_type": "code",
        "colab": {}
      },
      "source": [
        "pa = 101325/10**6 #MPa\n",
        "TK0 = 273.15\n",
        "\n",
        "def WaterCp(Tw):\n",
        "  return iapws97._Region1(Tw+TK0, pa)[\"cp\"] #kJ/(kg*K)\n",
        "\n",
        "def WaterDensity(Tw):\n",
        "  return 1/iapws97._Region1(Tw+TK0, pa)[\"v\"] #kg/m3"
      ],
      "execution_count": 0,
      "outputs": []
    },
    {
      "cell_type": "markdown",
      "metadata": {
        "id": "N6_X3Z3qYNQE",
        "colab_type": "text"
      },
      "source": [
        "load inlet Water parameters"
      ]
    },
    {
      "cell_type": "code",
      "metadata": {
        "id": "sBo8TJQ4R3LT",
        "colab_type": "code",
        "colab": {}
      },
      "source": [
        "with open ('Water.csv', 'r') as csvFile:\n",
        "  reader = csv.reader(csvFile, delimiter=';')\n",
        "  InletWater = np.matrix(list(reader))\n",
        "csvFile.close()\n"
      ],
      "execution_count": 0,
      "outputs": []
    },
    {
      "cell_type": "markdown",
      "metadata": {
        "id": "ZJku5SGpdhvf",
        "colab_type": "text"
      },
      "source": [
        "Definition of Class \"Heat Pump\""
      ]
    },
    {
      "cell_type": "code",
      "metadata": {
        "id": "WS5HfjBDdN25",
        "colab_type": "code",
        "colab": {}
      },
      "source": [
        "def flt2str(float_num):\n",
        "  return f\"{float_num:.2f}\".rstrip('0').rstrip('.')\n",
        "\n",
        "class HeatPump:\n",
        "  def __init__(self, Producer, Type, w_flow,\n",
        "               Tw_in, Tw_out, h_flow, Th_out, Consumption):\n",
        "    self.Producer = Producer\n",
        "    self.Type = Type\n",
        "    self.w_flow = float(w_flow)\n",
        "    self.Tw_in = float(Tw_in)\n",
        "    self.Tw_out = float(Tw_out)\n",
        "    self.h_flow = float(h_flow)\n",
        "    self.Th_out = float(Th_out)\n",
        "    self.Consumption = float(Consumption)\n",
        "\n",
        "  def __str__(self):\n",
        "    return(\"Producer:\\t\" + self.Producer +\n",
        "    \"\\nType:\\t\\t\" + self.Type +\n",
        "    \"\\nw_flow:\\t\\t\" + flt2str(self.w_flow) +\n",
        "    \"\\nTw_in:\\t\\t\" + flt2str(self.Tw_in) +\n",
        "    \"\\nTw_out:\\t\\t\" + flt2str(self.Tw_out) +\n",
        "    \"\\nh_flow:\\t\\t\" + flt2str(self.h_flow) +\n",
        "    \"\\nTh_out:\\t\\t\" + flt2str(self.Th_out) +\n",
        "    \"\\nConsumption:\\t\" + flt2str(self.Consumption))\n",
        "    #       + self.Producer + \"\\t \" + self.Type + \"\\t \" + self.w_flow + \"\\t \"\n",
        "    #       + self.Tw_in + \"\\t \" + self.Tw_out + \"\\t \" + self.h_flow + \"\\t \"\n",
        "    #       + self.Th_out + \"\\t \" + self.Consumption)\n",
        "  \n",
        "  def getW_flow(self):\n",
        "    return self.w_flow\n",
        "  \n",
        "  def getTh_out(self):\n",
        "    return self.Th_out\n",
        "  \n",
        "  def getQin(self, w_flow, Tw):\n",
        "    return (w_flow * WaterDensity(Tw) * WaterCp(Tw) * 3 / 3600) #kW\n",
        "  \n",
        "  def getCOP(self, Tw):\n",
        "    if ((Tw > self.Tw_in) and (Tw < self.Tw_out)):\n",
        "      return (self.Th_out + TK0)/(self.Th_out - Tw)\n",
        "    else:\n",
        "      return 0    \n",
        "  \n",
        "  def getoutHeat(self, Qin, COP): \n",
        "  #if ((Tw > float(self.Tw_in)) and (Tw < float(self.Tw_out))):\n",
        "    return ((Qin * COP)/(COP - 1)) #kW\n",
        "  #else:\n",
        "    #return 0 \n",
        "  \n",
        "  def getPel(self, COP, Qout):\n",
        "     return (COP * Qout) #kW"
      ],
      "execution_count": 0,
      "outputs": []
    },
    {
      "cell_type": "markdown",
      "metadata": {
        "id": "8YiZPID3dqsR",
        "colab_type": "text"
      },
      "source": [
        "Definiton of Class \"Database\""
      ]
    },
    {
      "cell_type": "code",
      "metadata": {
        "id": "xQNfWCAbksRe",
        "colab_type": "code",
        "colab": {}
      },
      "source": [
        "class HeatPumpDB:\n",
        "  DB = []\n",
        "  def __init__(self):\n",
        "    with open ('SWHP.csv', 'r') as csvFile:\n",
        "      reader = csv.DictReader (csvFile, delimiter=';')\n",
        "      self.DB = list(reader)\n",
        "    csvFile.close()\n",
        "  \n",
        "  def getHeatPump_byID(self, ID):\n",
        "    for entry in self.DB:\n",
        "      if (int(entry[\"ID\"]) == ID):\n",
        "        return self.makeHeatPump(entry)\n",
        "      \n",
        "  def getHeatPump_byType(self, Type):\n",
        "    for entry in self.DB:\n",
        "      if (entry[\"Type\"]) == Type:\n",
        "        return self.makeHeatPump(entry)\n",
        "\n",
        "  def makeHeatPump(self, entry):\n",
        "    return HeatPump(entry[\"Producer\"], entry[\"Type\"], entry[\"w_flow\"],\n",
        "                    entry[\"Tw_in\"], entry[\"Tw_out\"], entry[\"h_flow\"],\n",
        "                    entry[\"Th_out\"], entry[\"Consumption\"])\n"
      ],
      "execution_count": 0,
      "outputs": []
    },
    {
      "cell_type": "markdown",
      "metadata": {
        "id": "XUN-XsHLAG4O",
        "colab_type": "text"
      },
      "source": [
        "COP"
      ]
    },
    {
      "cell_type": "code",
      "metadata": {
        "id": "5YZIl0l4hCa8",
        "colab_type": "code",
        "outputId": "645a9b3a-e5a4-4975-bd0c-34a235cbb664",
        "colab": {
          "base_uri": "https://localhost:8080/",
          "height": 430
        }
      },
      "source": [
        "#create an instance of the database\n",
        "HeatPumpDB1 = HeatPumpDB()\n",
        "\n",
        "WP1 = HeatPumpDB1.getHeatPump_byID(0)\n",
        "print(WP1)\n",
        "\n",
        "Tw = InletWater[:,1] \n",
        "\n",
        " #Tw = max(min(float(self.Tw_in), Tw), float(self.Tw_out))\n",
        "#print (max(min(float(WP1.Tw_in), 11.1), float(WP1.Tw_out)))\n",
        "\n",
        "COP = []\n",
        "for i in range(len(Tw)):\n",
        "  COP.append(WP1.getCOP(float(Tw[i])))\n",
        " \n",
        "  \n",
        "  \n",
        "#plot (x = Temperature of Heat source, y = COP)\n",
        "x = Tw\n",
        "y = COP\n",
        "\n",
        "plt.plot(x, y, \"ro\")\n",
        "plt.xlabel('Temperature of heat source, °C')\n",
        "plt.ylabel('COP, -')\n",
        "plt.axis([0, 25, 0, 10])\n",
        "plt.show()"
      ],
      "execution_count": 0,
      "outputs": [
        {
          "output_type": "stream",
          "text": [
            "Producer:\tViessmann\n",
            "Type:\t\tWW302.B300\n",
            "w_flow:\t\t70\n",
            "Tw_in:\t\t8\n",
            "Tw_out:\t\t20\n",
            "h_flow:\t\t49.9\n",
            "Th_out:\t\t60\n",
            "Consumption:\t49.5\n"
          ],
          "name": "stdout"
        },
        {
          "output_type": "display_data",
          "data": {
            "image/png": "[encoded data removed]",
            "text/plain": [
              "<Figure size 432x288 with 1 Axes>"
            ]
          },
          "metadata": {
            "tags": []
          }
        }
      ]
    },
    {
      "cell_type": "markdown",
      "metadata": {
        "id": "ENGmbG_dePzE",
        "colab_type": "text"
      },
      "source": [
        "main calculation"
      ]
    },
    {
      "cell_type": "code",
      "metadata": {
        "id": "8Z8WoxfYWLIO",
        "colab_type": "code",
        "outputId": "cc750dc6-1bfd-4c26-9119-05cd3df69551",
        "colab": {
          "base_uri": "https://localhost:8080/",
          "height": 696
        }
      },
      "source": [
        "Qin = []\n",
        "for i in range(len(Tw)):\n",
        "  Qin.append(WP1.getQin(WP1.getW_flow(), float(Tw[i])))\n",
        "\n",
        "x = range(len(Qin))\n",
        "y = Qin\n",
        "\n",
        "plt.figure(figsize=(10,5))\n",
        "plt.plot(x, y, \"g^\")\n",
        "plt.xlabel('2017')\n",
        "plt.ylabel('Qin, kW')\n",
        "plt.axis([0, 370, 0, 300])\n",
        "plt.grid(linestyle='-', linewidth=0.5)\n",
        "plt.show()\n",
        "\n",
        "\n",
        "Qout = []\n",
        "Qout_work = 0\n",
        "for i in range(len(Qin)):\n",
        "  Qout.append(WP1.getoutHeat(Qin[i], COP[i]))\n",
        "  if Qout[i]>0:\n",
        "    Qout_work += 1\n",
        "\n",
        "aQout = sum (Qout)  \n",
        "  \n",
        "x = range(len(Qout))\n",
        "y = Qout\n",
        "\n",
        "plt.figure(figsize=(10,5))\n",
        "plt.plot(x, y, 'bs')\n",
        "#plt.plot(x, y, marker='s', color='b')\n",
        "plt.xlabel('2017')\n",
        "plt.ylabel('Qout, kW')\n",
        "plt.axis([0, 370, 0, 500])\n",
        "plt.grid(linestyle='-', linewidth=0.5)\n",
        "plt.show()\n",
        "  \n",
        "\n",
        "print (\"Qout_work = \", Qout_work, \"days\")\n",
        "print (\"Summary Heat capacity = \", aQout, \"kW/a\")\n",
        "\n"
      ],
      "execution_count": 0,
      "outputs": [
        {
          "output_type": "display_data",
          "data": {
            "image/png": "[encoded data removed]",
            "text/plain": [
              "<Figure size 720x360 with 1 Axes>"
            ]
          },
          "metadata": {
            "tags": []
          }
        },
        {
          "output_type": "display_data",
          "data": {
            "image/png": "[encoded data removed]",
            "text/plain": [
              "<Figure size 720x360 with 1 Axes>"
            ]
          },
          "metadata": {
            "tags": []
          }
        },
        {
          "output_type": "stream",
          "text": [
            "Qout_work =  141 days\n",
            "Summary Heat capacity =  40024.30955829477 kW/a\n"
          ],
          "name": "stdout"
        }
      ]
    },
    {
      "cell_type": "markdown",
      "metadata": {
        "id": "O-USp9_YOhZn",
        "colab_type": "text"
      },
      "source": [
        "Seasonal Performance Factor"
      ]
    },
    {
      "cell_type": "code",
      "metadata": {
        "id": "vBVCD0WHiH96",
        "colab_type": "code",
        "outputId": "719094f5-6150-4e3d-98b7-c541f10b939e",
        "colab": {
          "base_uri": "https://localhost:8080/",
          "height": 54
        }
      },
      "source": [
        "\n",
        "print(\"Work Factor = \", (Qout_work/365)*100, \"%/a\")\n",
        "\n",
        "SPF = aQout/(Qout_work*WP1.Consumption)\n",
        "print (\"Seasonal Performance Factor = \", SPF, \"kW/a\")\n",
        "\n"
      ],
      "execution_count": 0,
      "outputs": [
        {
          "output_type": "stream",
          "text": [
            "Work Factor =  38.63013698630137 %/a\n",
            "Seasonal Performance Factor =  5.734552555096321 kW/a\n"
          ],
          "name": "stdout"
        }
      ]
    },
    {
      "cell_type": "markdown",
      "metadata": {
        "id": "q0mnvEDcKLst",
        "colab_type": "text"
      },
      "source": [
        "el.consumption"
      ]
    },
    {
      "cell_type": "code",
      "metadata": {
        "id": "-kfuysEac-Wm",
        "colab_type": "code",
        "outputId": "4b7433a8-7e78-4537-c4c7-ad95ec598665",
        "colab": {
          "base_uri": "https://localhost:8080/",
          "height": 246
        }
      },
      "source": [
        "def getPel(self, COP, Qout):\n",
        "     return (COP * Qout) #kW\n",
        "\n",
        "\n",
        "Pel = []\n",
        "for i in range(len(Qout)):\n",
        "  Pel.append(getPel(WP1.getCOP(float(Tw[i])), Qout[i]))\n",
        "print (Pel(60))\n",
        "\n",
        "x = range(len(Qout))\n",
        "y = Pel\n",
        "\n",
        "plt.figure(figsize=(10,5))\n",
        "plt.plot(x, y, \"g^\")\n",
        "plt.xlabel('2017')\n",
        "plt.ylabel('Qin, kW')\n",
        "plt.axis([0, 370, 0, 300])\n",
        "plt.grid(linestyle='-', linewidth=0.5)\n",
        "plt.show()"
      ],
      "execution_count": 0,
      "outputs": [
        {
          "output_type": "error",
          "ename": "TypeError",
          "evalue": "ignored",
          "traceback": [
            "\u001b[0;31m---------------------------------------------------------------------------\u001b[0m",
            "\u001b[0;31mTypeError\u001b[0m                                 Traceback (most recent call last)",
            "\u001b[0;32m<ipython-input-11-fccd49195cfb>\u001b[0m in \u001b[0;36m<module>\u001b[0;34m()\u001b[0m\n\u001b[1;32m      5\u001b[0m \u001b[0mPel\u001b[0m \u001b[0;34m=\u001b[0m \u001b[0;34m[\u001b[0m\u001b[0;34m]\u001b[0m\u001b[0;34m\u001b[0m\u001b[0;34m\u001b[0m\u001b[0m\n\u001b[1;32m      6\u001b[0m \u001b[0;32mfor\u001b[0m \u001b[0mi\u001b[0m \u001b[0;32min\u001b[0m \u001b[0mrange\u001b[0m\u001b[0;34m(\u001b[0m\u001b[0mlen\u001b[0m\u001b[0;34m(\u001b[0m\u001b[0mQout\u001b[0m\u001b[0;34m)\u001b[0m\u001b[0;34m)\u001b[0m\u001b[0;34m:\u001b[0m\u001b[0;34m\u001b[0m\u001b[0;34m\u001b[0m\u001b[0m\n\u001b[0;32m----> 7\u001b[0;31m   \u001b[0mPel\u001b[0m\u001b[0;34m.\u001b[0m\u001b[0mappend\u001b[0m\u001b[0;34m(\u001b[0m\u001b[0mgetPel\u001b[0m\u001b[0;34m(\u001b[0m\u001b[0mWP1\u001b[0m\u001b[0;34m.\u001b[0m\u001b[0mgetCOP\u001b[0m\u001b[0;34m(\u001b[0m\u001b[0mfloat\u001b[0m\u001b[0;34m(\u001b[0m\u001b[0mTw\u001b[0m\u001b[0;34m[\u001b[0m\u001b[0mi\u001b[0m\u001b[0;34m]\u001b[0m\u001b[0;34m)\u001b[0m\u001b[0;34m)\u001b[0m\u001b[0;34m,\u001b[0m \u001b[0mQout\u001b[0m\u001b[0;34m[\u001b[0m\u001b[0mi\u001b[0m\u001b[0;34m]\u001b[0m\u001b[0;34m)\u001b[0m\u001b[0;34m)\u001b[0m\u001b[0;34m\u001b[0m\u001b[0;34m\u001b[0m\u001b[0m\n\u001b[0m\u001b[1;32m      8\u001b[0m \u001b[0mprint\u001b[0m \u001b[0;34m(\u001b[0m\u001b[0mPel\u001b[0m\u001b[0;34m(\u001b[0m\u001b[0;36m60\u001b[0m\u001b[0;34m)\u001b[0m\u001b[0;34m)\u001b[0m\u001b[0;34m\u001b[0m\u001b[0;34m\u001b[0m\u001b[0m\n\u001b[1;32m      9\u001b[0m \u001b[0;34m\u001b[0m\u001b[0m\n",
            "\u001b[0;31mTypeError\u001b[0m: getPel() missing 1 required positional argument: 'Qout'"
          ]
        }
      ]
    },
    {
      "cell_type": "markdown",
      "metadata": {
        "id": "PpGOtX6Ad29R",
        "colab_type": "text"
      },
      "source": [
        "draft"
      ]
    },
    {
      "cell_type": "code",
      "metadata": {
        "id": "dQuje0lmJkBE",
        "colab_type": "code",
        "colab": {}
      },
      "source": [
        ""
      ],
      "execution_count": 0,
      "outputs": []
    },
    {
      "cell_type": "markdown",
      "metadata": {
        "id": "K-i9LjnbfDeK",
        "colab_type": "text"
      },
      "source": [
        "Self-function"
      ]
    },
    {
      "cell_type": "code",
      "metadata": {
        "id": "i5cGkWcALafI",
        "colab_type": "code",
        "colab": {}
      },
      "source": [
        "class Rechteck():\n",
        "  def __init__(self,breite,laenge):\n",
        "    self.myLaenge =laenge\n",
        "    self.myBreite =breite\n",
        "    \n",
        "  def printRechteck(self):\n",
        "    print('Das Rechteck hat die Laenge '+str(self.myLaenge)+' und die Breite'+str(self.myBreite))\n",
        "  \n",
        "  def calcUmfang(self):\n",
        "    return 2*self.myBreite + 2*self.myLaenge\n",
        "  \n",
        "  def calcFI(self):\n",
        "    return self.myBreite * self.myLaenge\n",
        " \n",
        "  def hasBiggerFlaecheninhalt(self, other):\n",
        "    selfFI = self.calcFI()\n",
        "    otherFI = other.calcFI()\n",
        "    return selfFI > otherFI\n",
        "    \n",
        "rechteck1 = Rechteck(10,5)\n",
        "rechteck2 = Rechteck(20,2)\n",
        "\n",
        "rechteck1.printRechteck()\n",
        "print(rechteck1.calcFI())\n",
        "print(rechteck2.calcFI())\n",
        "print(rechteck1.hasBiggerFlaecheninhalt(rechteck2))\n",
        "         \n",
        "      "
      ],
      "execution_count": 0,
      "outputs": []
    },
    {
      "cell_type": "markdown",
      "metadata": {
        "id": "d-hIGrnJZ82g",
        "colab_type": "text"
      },
      "source": [
        "graph"
      ]
    },
    {
      "cell_type": "code",
      "metadata": {
        "id": "tpEu73TgadGL",
        "colab_type": "code",
        "colab": {}
      },
      "source": [
        "\n",
        "def Qout(self, Qin, COP):\n",
        "  return (Qin*COP)/(COP - 1)\n",
        "\n",
        "def h_flow(self, Qout, COP):\n",
        "  return Qout/(rho*Cp*(Th-Tw)) # Sebastian fragen\n",
        "\n",
        "def achieved\n",
        "\n",
        "print (\"COP = \", COP, \"-\")\n",
        "print (\"Qout = \", Qout, \"kW\")\n",
        "print (\"Heat flow = \", h_flow, \"m^3/h\")"
      ],
      "execution_count": 0,
      "outputs": []
    }
  ]
}