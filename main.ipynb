{
  "nbformat": 4,
  "nbformat_minor": 0,
  "metadata": {
    "colab": {
      "name": "master.ipynb",
      "version": "0.3.2",
      "provenance": [],
      "collapsed_sections": [],
      "include_colab_link": true
    },
    "kernelspec": {
      "name": "python3",
      "display_name": "Python 3"
    }
  },
  "cells": [
    {
      "cell_type": "markdown",
      "metadata": {
        "id": "view-in-github",
        "colab_type": "text"
      },
      "source": [
        "<a href=\"https://colab.research.google.com/github/msbonus/swhp/blob/master/main.ipynb\" target=\"_parent\"><img src=\"https://colab.research.google.com/assets/colab-badge.svg\" alt=\"Open In Colab\"/></a>"
      ]
    },
    {
      "cell_type": "markdown",
      "metadata": {
        "id": "UnZkzPNZjhtM",
        "colab_type": "text"
      },
      "source": [
        "Install iapws"
      ]
    },
    {
      "cell_type": "code",
      "metadata": {
        "id": "RqxprU7ARAlw",
        "colab_type": "code",
        "colab": {}
      },
      "source": [
        "!pip install iapws"
      ],
      "execution_count": 0,
      "outputs": []
    },
    {
      "cell_type": "markdown",
      "metadata": {
        "id": "9YHK9-pl1NHa",
        "colab_type": "text"
      },
      "source": [
        "Download data files"
      ]
    },
    {
      "cell_type": "code",
      "metadata": {
        "id": "Su2TV9io1MXf",
        "colab_type": "code",
        "colab": {}
      },
      "source": [
        "!wget https://raw.githubusercontent.com/msbonus/swhp/master/SWHP.csv\n",
        "!wget https://raw.githubusercontent.com/msbonus/swhp/master/Water.csv"
      ],
      "execution_count": 0,
      "outputs": []
    },
    {
      "cell_type": "markdown",
      "metadata": {
        "id": "4AcyAjXR0UU3",
        "colab_type": "text"
      },
      "source": [
        "all imports"
      ]
    },
    {
      "cell_type": "code",
      "metadata": {
        "id": "U19ld_cpz6sJ",
        "colab_type": "code",
        "colab": {}
      },
      "source": [
        "import numpy as np\n",
        "from iapws import iapws97\n",
        "import csv\n",
        "import matplotlib.pyplot as plt"
      ],
      "execution_count": 0,
      "outputs": []
    },
    {
      "cell_type": "markdown",
      "metadata": {
        "id": "twvtg65aReQk",
        "colab_type": "text"
      },
      "source": [
        "Water properties"
      ]
    },
    {
      "cell_type": "code",
      "metadata": {
        "id": "Vob5H6cGc8XG",
        "colab_type": "code",
        "colab": {}
      },
      "source": [
        "pa = 101325/10**6 #MPa\n",
        "TK0 = 273.15\n",
        "\n",
        "def WaterCp(Tw):\n",
        "  return iapws97._Region1(Tw+TK0, pa)[\"cp\"] #kJ/(kg*K)\n",
        "\n",
        "def WaterDensity(Tw):\n",
        "  return 1/iapws97._Region1(Tw+TK0, pa)[\"v\"] #kg/m3"
      ],
      "execution_count": 0,
      "outputs": []
    },
    {
      "cell_type": "markdown",
      "metadata": {
        "id": "N6_X3Z3qYNQE",
        "colab_type": "text"
      },
      "source": [
        "load inlet Water parameters"
      ]
    },
    {
      "cell_type": "code",
      "metadata": {
        "id": "sBo8TJQ4R3LT",
        "colab_type": "code",
        "colab": {}
      },
      "source": [
        "with open ('Water.csv', 'r') as csvFile:\n",
        "  reader = csv.reader(csvFile, delimiter=';')\n",
        "  InletWater = np.matrix(list(reader))\n",
        "csvFile.close()\n"
      ],
      "execution_count": 0,
      "outputs": []
    },
    {
      "cell_type": "markdown",
      "metadata": {
        "id": "ZJku5SGpdhvf",
        "colab_type": "text"
      },
      "source": [
        "Definition of Class \"Heat Pump\""
      ]
    },
    {
      "cell_type": "code",
      "metadata": {
        "id": "WS5HfjBDdN25",
        "colab_type": "code",
        "colab": {}
      },
      "source": [
        "class HeatPump:\n",
        "  def __init__(self, Producer, Type, w_flow,\n",
        "               Tw_in, Tw_out, h_flow, Th_out, Consumption):\n",
        "    self.Producer = Producer\n",
        "    self.Type = Type\n",
        "    self.w_flow = w_flow\n",
        "    self.Tw_in = Tw_in\n",
        "    self.Tw_out = Tw_out\n",
        "    self.h_flow = h_flow\n",
        "    self.Th_out = Th_out\n",
        "    self.Consumption = Consumption\n",
        "\n",
        "  def __str__(self):\n",
        "    return(\"Producer\\t Type\\t\\t w_flow\\t Tw_in\\t Tw_out\\t h_flow\\t\"\n",
        "           + \" Th_out\\t Consumption\\n\"\n",
        "           + self.Producer + \"\\t \" + self.Type + \"\\t \" + self.w_flow + \"\\t \"\n",
        "           + self.Tw_in + \"\\t \" + self.Tw_out + \"\\t \" + self.h_flow + \"\\t \"\n",
        "           + self.Th_out + \"\\t \" + self.Consumption)\n",
        "  \n",
        "  def getW_flow(self):\n",
        "    return float(self.w_flow)\n",
        "  def getTh_out(self):\n",
        "    return float(self.Th_out)\n",
        "  \n",
        "  def getCOP(self, Tw):\n",
        "    Tw = max(min(float(self.Tw_in), Tw), float(self.Tw_out))\n",
        "    #if Tw > float(self.Tw_in) or Tw < float(self.Tw_out):\n",
        "      #print('Warning: Inlet Temperature is not in the allowed range')\n",
        "    return (float(self.Th_out) + TK0)/(float(self.Th_out) - Tw)"
      ],
      "execution_count": 0,
      "outputs": []
    },
    {
      "cell_type": "markdown",
      "metadata": {
        "id": "8YiZPID3dqsR",
        "colab_type": "text"
      },
      "source": [
        "Definiton of Class \"Database\""
      ]
    },
    {
      "cell_type": "code",
      "metadata": {
        "id": "xQNfWCAbksRe",
        "colab_type": "code",
        "colab": {}
      },
      "source": [
        "class HeatPumpDB:\n",
        "  DB = []\n",
        "  def __init__(self):\n",
        "    with open ('SWHP.csv', 'r') as csvFile:\n",
        "      reader = csv.DictReader (csvFile, delimiter=';')\n",
        "      self.DB = list(reader)\n",
        "    csvFile.close()\n",
        "  \n",
        "  def getHeatPump_byID(self, ID):\n",
        "    for entry in self.DB:\n",
        "      if (int(entry[\"ID\"]) == ID):\n",
        "        return self.makeHeatPump(entry)\n",
        "      \n",
        "  def getHeatPump_byType(self, Type):\n",
        "    for entry in self.DB:\n",
        "      if (entry[\"Type\"]) == Type:\n",
        "        return self.makeHeatPump(entry)\n",
        "\n",
        "  def makeHeatPump(self, entry):\n",
        "    return HeatPump(entry[\"Producer\"], entry[\"Type\"], entry[\"w_flow\"],\n",
        "                    entry[\"Tw_in\"], entry[\"Tw_out\"], entry[\"h_flow\"],\n",
        "                    entry[\"Th_out\"], entry[\"Consumption\"])\n"
      ],
      "execution_count": 0,
      "outputs": []
    },
    {
      "cell_type": "markdown",
      "metadata": {
        "id": "XUN-XsHLAG4O",
        "colab_type": "text"
      },
      "source": [
        "COP"
      ]
    },
    {
      "cell_type": "code",
      "metadata": {
        "id": "5YZIl0l4hCa8",
        "colab_type": "code",
        "outputId": "008c314f-a132-4944-ed8d-a1f2f448e4f4",
        "colab": {
          "base_uri": "https://localhost:8080/",
          "height": 319
        }
      },
      "source": [
        "#create an instance of the database\n",
        "HeatPumpDB1 = HeatPumpDB()\n",
        "\n",
        "WP1 = HeatPumpDB1.getHeatPump_byID(0)\n",
        "print(type(WP1))\n",
        "\n",
        "Tw = InletWater[:,1] \n",
        "\n",
        " #Tw = max(min(float(self.Tw_in), Tw), float(self.Tw_out))\n",
        "#print (max(min(float(WP1.Tw_in), 11.1), float(WP1.Tw_out)))\n",
        "  \n",
        "COP = []\n",
        "for i in range(len(Tw)):\n",
        "  COP.append(WP1.getCOP(float(Tw[i])))\n",
        "  \n",
        "#plot (x = Temperature of Heat source, y = COP)\n",
        "x = Tw\n",
        "y = COP\n",
        "\n",
        "plt.plot(x, y, \"ro\")\n",
        "plt.xlabel('Temperature of heat source, °C')\n",
        "plt.ylabel('COP, -')\n",
        "plt.axis([0, 25, 0, 10])\n",
        "plt.show()"
      ],
      "execution_count": 0,
      "outputs": [
        {
          "output_type": "stream",
          "text": [
            "<class '__main__.HeatPump'>\n",
            "20.0\n"
          ],
          "name": "stdout"
        },
        {
          "output_type": "display_data",
          "data": {
            "image/png": "[encoded data removed]",
            "text/plain": [
              "<Figure size 432x288 with 1 Axes>"
            ]
          },
          "metadata": {
            "tags": []
          }
        }
      ]
    },
    {
      "cell_type": "markdown",
      "metadata": {
        "id": "ENGmbG_dePzE",
        "colab_type": "text"
      },
      "source": [
        "main calculation"
      ]
    },
    {
      "cell_type": "code",
      "metadata": {
        "id": "8Z8WoxfYWLIO",
        "colab_type": "code",
        "outputId": "06e9179d-31ed-477b-c879-5f6bc28448c9",
        "colab": {
          "base_uri": "https://localhost:8080/",
          "height": 283
        }
      },
      "source": [
        "def getHeat(V, Tw, T0=0):\n",
        "  return V*WaterDensity(Tw)*WaterCp(Tw)*(Tw-T0)/3600 #kW\n",
        "\n",
        "Qu = []\n",
        "for i in range(len(Tw)):\n",
        "  Qu.append(getHeat(WP1.getW_flow(), float(Tw[i])))\n",
        "\n",
        "x = range(len(Qu))\n",
        "y = Qu\n",
        "\n",
        "plt.plot(x, y, \"bs\")\n",
        "plt.xlabel('2017')\n",
        "plt.ylabel('For WP1 available useful heat, kW')\n",
        "plt.axis([0, 370, 0, 2000])\n",
        "plt.show()\n",
        "  \n",
        "\n"
      ],
      "execution_count": 0,
      "outputs": [
        {
          "output_type": "display_data",
          "data": {
            "image/png": "[encoded data removed]",
            "text/plain": [
              "<Figure size 432x288 with 1 Axes>"
            ]
          },
          "metadata": {
            "tags": []
          }
        }
      ]
    },
    {
      "cell_type": "markdown",
      "metadata": {
        "id": "PpGOtX6Ad29R",
        "colab_type": "text"
      },
      "source": [
        "draft"
      ]
    },
    {
      "cell_type": "code",
      "metadata": {
        "id": "-kfuysEac-Wm",
        "colab_type": "code",
        "colab": {}
      },
      "source": [
        ""
      ],
      "execution_count": 0,
      "outputs": []
    },
    {
      "cell_type": "code",
      "metadata": {
        "id": "dQuje0lmJkBE",
        "colab_type": "code",
        "colab": {}
      },
      "source": [
        "#for row in reader:\n",
        "    #print(dict(row))\n",
        "  print(list(reader))"
      ],
      "execution_count": 0,
      "outputs": []
    },
    {
      "cell_type": "markdown",
      "metadata": {
        "id": "O-USp9_YOhZn",
        "colab_type": "text"
      },
      "source": [
        "zu COP:\n",
        "Qout = COP*Qel => Qel = Qout/COP  auch\n",
        "COP = 1 + in/el\n",
        "=> COP = 1+ (in*COP)/out\n",
        "=> COP*out = out + COP*in\n",
        "=> in = out - out/COP => in = out(1-1/COP)\n",
        "\n"
      ]
    },
    {
      "cell_type": "code",
      "metadata": {
        "id": "i5cGkWcALafI",
        "colab_type": "code",
        "colab": {}
      },
      "source": [
        ""
      ],
      "execution_count": 0,
      "outputs": []
    },
    {
      "cell_type": "markdown",
      "metadata": {
        "id": "d-hIGrnJZ82g",
        "colab_type": "text"
      },
      "source": [
        "graph"
      ]
    },
    {
      "cell_type": "code",
      "metadata": {
        "id": "FquGAbKUdfEf",
        "colab_type": "code",
        "colab": {}
      },
      "source": [
        "x = np.arange(9)\n",
        "\n",
        "plt.plot(x, x, \"ro\", x, x**2, \"g^\", x, x**3, \"bs\")\n",
        "plt.xlabel('x')\n",
        "#plt.ylabel('y')\n",
        "plt.axis([0, 10, -1, 150])\n",
        "plt.show()"
      ],
      "execution_count": 0,
      "outputs": []
    },
    {
      "cell_type": "code",
      "metadata": {
        "id": "tpEu73TgadGL",
        "colab_type": "code",
        "colab": {}
      },
      "source": [
        "\n",
        "def Qout(self, Qin, COP):\n",
        "  return (Qin*COP)/(COP - 1)\n",
        "\n",
        "def h_flow(self, Qout, COP):\n",
        "  return Qout/(rho*Cp*(Th-Tw)) # Sebastian fragen\n",
        "\n",
        "def achieved\n",
        "\n",
        "print (\"COP = \", COP, \"-\")\n",
        "print (\"Qout = \", Qout, \"kW\")\n",
        "print (\"Heat flow = \", h_flow, \"m^3/h\")"
      ],
      "execution_count": 0,
      "outputs": []
    }
  ]
}