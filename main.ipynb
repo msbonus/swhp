{
  "nbformat": 4,
  "nbformat_minor": 0,
  "metadata": {
    "colab": {
      "name": "main.ipynb",
      "version": "0.3.2",
      "provenance": [],
      "collapsed_sections": []
    },
    "kernelspec": {
      "name": "python3",
      "display_name": "Python 3"
    }
  },
  "cells": [
    {
      "cell_type": "markdown",
      "metadata": {
        "id": "UnZkzPNZjhtM",
        "colab_type": "text"
      },
      "source": [
        "Install iapws"
      ]
    },
    {
      "cell_type": "code",
      "metadata": {
        "id": "RqxprU7ARAlw",
        "colab_type": "code",
        "colab": {}
      },
      "source": [
        "!pip install iapws"
      ],
      "execution_count": 0,
      "outputs": []
    },
    {
      "cell_type": "markdown",
      "metadata": {
        "id": "9YHK9-pl1NHa",
        "colab_type": "text"
      },
      "source": [
        "Download data files"
      ]
    },
    {
      "cell_type": "code",
      "metadata": {
        "id": "Su2TV9io1MXf",
        "colab_type": "code",
        "colab": {}
      },
      "source": [
        "!wget https://raw.githubusercontent.com/msbonus/swhp/master/SWHP.csv\n",
        "!wget https://raw.githubusercontent.com/msbonus/swhp/master/Water.csv"
      ],
      "execution_count": 0,
      "outputs": []
    },
    {
      "cell_type": "markdown",
      "metadata": {
        "id": "4AcyAjXR0UU3",
        "colab_type": "text"
      },
      "source": [
        "all imports"
      ]
    },
    {
      "cell_type": "code",
      "metadata": {
        "id": "U19ld_cpz6sJ",
        "colab_type": "code",
        "colab": {}
      },
      "source": [
        "import numpy as np\n",
        "from iapws import iapws97\n",
        "import csv\n",
        "import matplotlib.pyplot as plt"
      ],
      "execution_count": 0,
      "outputs": []
    },
    {
      "cell_type": "markdown",
      "metadata": {
        "id": "twvtg65aReQk",
        "colab_type": "text"
      },
      "source": [
        "Water properties"
      ]
    },
    {
      "cell_type": "code",
      "metadata": {
        "id": "Vob5H6cGc8XG",
        "colab_type": "code",
        "colab": {}
      },
      "source": [
        "pa = 101325/10**6 #MPa\n",
        "TK0 = 273.15\n",
        "\n",
        "def WaterCp(Tw):\n",
        "  return iapws97._Region1(Tw+TK0, pa)[\"cp\"] #kJ/(kg*K)\n",
        "\n",
        "def WaterDensity(Tw):\n",
        "  return 1/iapws97._Region1(Tw+TK0, pa)[\"v\"] #kg/m3"
      ],
      "execution_count": 0,
      "outputs": []
    },
    {
      "cell_type": "markdown",
      "metadata": {
        "id": "N6_X3Z3qYNQE",
        "colab_type": "text"
      },
      "source": [
        "load inlet Water parameters"
      ]
    },
    {
      "cell_type": "code",
      "metadata": {
        "id": "sBo8TJQ4R3LT",
        "colab_type": "code",
        "colab": {}
      },
      "source": [
        "with open ('Water.csv', 'r') as csvFile:\n",
        "  reader = csv.reader(csvFile, delimiter=';')\n",
        "  InletWater = np.matrix(list(reader))\n",
        "csvFile.close()\n"
      ],
      "execution_count": 0,
      "outputs": []
    },
    {
      "cell_type": "markdown",
      "metadata": {
        "id": "ZJku5SGpdhvf",
        "colab_type": "text"
      },
      "source": [
        "Definition of Class \"Heat Pump\""
      ]
    },
    {
      "cell_type": "code",
      "metadata": {
        "id": "WS5HfjBDdN25",
        "colab_type": "code",
        "colab": {}
      },
      "source": [
        "def flt2str(float_num):\n",
        "  return f\"{float_num:.2f}\".rstrip('0').rstrip('.')\n",
        "\n",
        "class HeatPump:\n",
        "  def __init__(self, Producer, Type, w_flow,\n",
        "               Tw_in, Tw_out, h_flow, Th_out, Consumption):\n",
        "    self.Producer = Producer\n",
        "    self.Type = Type\n",
        "    self.w_flow = float(w_flow)\n",
        "    self.Tw_in = float(Tw_in)\n",
        "    self.Tw_out = float(Tw_out)\n",
        "    self.h_flow = float(h_flow)\n",
        "    self.Th_out = float(Th_out)\n",
        "    self.Consumption = float(Consumption)\n",
        "\n",
        "  def __str__(self):\n",
        "    return(\"Producer:\\t\" + self.Producer +\n",
        "    \"\\nType:\\t\\t\" + self.Type +\n",
        "    \"\\nw_flow:\\t\\t\" + flt2str(self.w_flow) +\n",
        "    \"\\nTw_in:\\t\\t\" + flt2str(self.Tw_in) +\n",
        "    \"\\nTw_out:\\t\\t\" + flt2str(self.Tw_out) +\n",
        "    \"\\nh_flow:\\t\\t\" + flt2str(self.h_flow) +\n",
        "    \"\\nTh_out:\\t\\t\" + flt2str(self.Th_out) +\n",
        "    \"\\nConsumption:\\t\" + flt2str(self.Consumption))\n",
        "    #       + self.Producer + \"\\t \" + self.Type + \"\\t \" + self.w_flow + \"\\t \"\n",
        "    #       + self.Tw_in + \"\\t \" + self.Tw_out + \"\\t \" + self.h_flow + \"\\t \"\n",
        "    #       + self.Th_out + \"\\t \" + self.Consumption)\n",
        "  \n",
        "  def getW_flow(self):\n",
        "    return self.w_flow\n",
        "  \n",
        "  def getTh_out(self):\n",
        "    return self.Th_out\n",
        "  \n",
        "  def getQin(self, w_flow, Tw):\n",
        "    return (w_flow * WaterDensity(Tw) * WaterCp(Tw) * 3 / 3600) #kW\n",
        "  \n",
        "  def getCOP(self, Tw):\n",
        "    if ((Tw > self.Tw_in) and (Tw < self.Tw_out)):\n",
        "      return (self.Th_out + TK0)/(self.Th_out - Tw)\n",
        "    else:\n",
        "      return 0    \n",
        "    \n",
        "  def getoutHeat(self, Qin, COP): \n",
        "  #if ((Tw > float(self.Tw_in)) and (Tw < float(self.Tw_out))):\n",
        "    return ((Qin * COP)/(COP - 1)) #kW\n",
        "  #else:\n",
        "    #return 0 \n",
        "      "
      ],
      "execution_count": 0,
      "outputs": []
    },
    {
      "cell_type": "markdown",
      "metadata": {
        "id": "8YiZPID3dqsR",
        "colab_type": "text"
      },
      "source": [
        "Definiton of Class \"Database\""
      ]
    },
    {
      "cell_type": "code",
      "metadata": {
        "id": "xQNfWCAbksRe",
        "colab_type": "code",
        "colab": {}
      },
      "source": [
        "class HeatPumpDB:\n",
        "  DB = []\n",
        "  def __init__(self):\n",
        "    with open ('SWHP.csv', 'r') as csvFile:\n",
        "      reader = csv.DictReader (csvFile, delimiter=';')\n",
        "      self.DB = list(reader)\n",
        "    csvFile.close()\n",
        "  \n",
        "  def getHeatPump_byID(self, ID):\n",
        "    for entry in self.DB:\n",
        "      if (int(entry[\"ID\"]) == ID):\n",
        "        return self.makeHeatPump(entry)\n",
        "      \n",
        "  def getHeatPump_byType(self, Type):\n",
        "    for entry in self.DB:\n",
        "      if (entry[\"Type\"]) == Type:\n",
        "        return self.makeHeatPump(entry)\n",
        "\n",
        "  def makeHeatPump(self, entry):\n",
        "    return HeatPump(entry[\"Producer\"], entry[\"Type\"], entry[\"w_flow\"],\n",
        "                    entry[\"Tw_in\"], entry[\"Tw_out\"], entry[\"h_flow\"],\n",
        "                    entry[\"Th_out\"], entry[\"Consumption\"])\n"
      ],
      "execution_count": 0,
      "outputs": []
    },
    {
      "cell_type": "markdown",
      "metadata": {
        "id": "XUN-XsHLAG4O",
        "colab_type": "text"
      },
      "source": [
        "COP"
      ]
    },
    {
      "cell_type": "code",
      "metadata": {
        "id": "5YZIl0l4hCa8",
        "colab_type": "code",
        "outputId": "06285e89-1b5e-45d9-9351-ffce355f395a",
        "colab": {
          "base_uri": "https://localhost:8080/",
          "height": 430
        }
      },
      "source": [
        "#create an instance of the database\n",
        "HeatPumpDB1 = HeatPumpDB()\n",
        "\n",
        "WP1 = HeatPumpDB1.getHeatPump_byID(0)\n",
        "print(WP1)\n",
        "\n",
        "Tw = InletWater[:,1] \n",
        "\n",
        " #Tw = max(min(float(self.Tw_in), Tw), float(self.Tw_out))\n",
        "#print (max(min(float(WP1.Tw_in), 11.1), float(WP1.Tw_out)))\n",
        "\n",
        "COP = []\n",
        "for i in range(len(Tw)):\n",
        "  COP.append(WP1.getCOP(float(Tw[i])))\n",
        " \n",
        "  \n",
        "  \n",
        "#plot (x = Temperature of Heat source, y = COP)\n",
        "x = Tw\n",
        "y = COP\n",
        "\n",
        "plt.plot(x, y, \"ro\")\n",
        "plt.xlabel('Temperature of heat source, °C')\n",
        "plt.ylabel('COP, -')\n",
        "plt.axis([0, 25, 0, 10])\n",
        "plt.show()"
      ],
      "execution_count": 30,
      "outputs": [
        {
          "output_type": "stream",
          "text": [
            "Producer:\tViessmann\n",
            "Type:\t\tWW302.B300\n",
            "w_flow:\t\t70\n",
            "Tw_in:\t\t8\n",
            "Tw_out:\t\t20\n",
            "h_flow:\t\t49.9\n",
            "Th_out:\t\t60\n",
            "Consumption:\t49.5\n"
          ],
          "name": "stdout"
        },
        {
          "output_type": "display_data",
          "data": {
            "image/png": "[encoded data removed]",
            "text/plain": [
              "<Figure size 432x288 with 1 Axes>"
            ]
          },
          "metadata": {
            "tags": []
          }
        }
      ]
    },
    {
      "cell_type": "markdown",
      "metadata": {
        "id": "ENGmbG_dePzE",
        "colab_type": "text"
      },
      "source": [
        "main calculation"
      ]
    },
    {
      "cell_type": "code",
      "metadata": {
        "id": "8Z8WoxfYWLIO",
        "colab_type": "code",
        "outputId": "94cdb2fb-148a-4104-8b54-c2096689e2f3",
        "colab": {
          "base_uri": "https://localhost:8080/",
          "height": 549
        }
      },
      "source": [
        "Qin = []\n",
        "for i in range(len(Tw)):\n",
        "  Qin.append(WP1.getQin(WP1.getW_flow(), float(Tw[i])))\n",
        "\n",
        "x = range(len(Qin))\n",
        "y = Qin\n",
        "\n",
        "plt.plot(x, y, \"g^\")\n",
        "plt.xlabel('2017')\n",
        "plt.ylabel('For WP1 available useful heat, kW')\n",
        "plt.axis([0, 370, 0, 2000])\n",
        "plt.grid(linestyle='-', linewidth=0.5)\n",
        "plt.show()\n",
        "\n",
        "Qout = []\n",
        "for i in range(len(Qin)):\n",
        "  Qout.append(WP1.getoutHeat(Qin[i], COP[i]))\n",
        "\n",
        "x = range(len(Qout))\n",
        "y = Qout\n",
        "\n",
        "plt.plot(x, y, \"bs\")\n",
        "plt.xlabel('2017')\n",
        "plt.ylabel('For WP1 available useful heat, kW')\n",
        "plt.axis([0, 370, 0, 2000])\n",
        "plt.grid(linestyle='-', linewidth=0.5)\n",
        "plt.show()\n",
        "  \n",
        "\n",
        "  \n",
        "  \n",
        "  #def Qin(self, w_flow, Tw):\n",
        "    #return Vin*WaterDensity(Tw)*WaterCp(Tw)*(Tw-(Tw-3))/3600 #kW\n"
      ],
      "execution_count": 9,
      "outputs": [
        {
          "output_type": "display_data",
          "data": {
            "image/png": "[encoded data removed]",
            "text/plain": [
              "<Figure size 432x288 with 1 Axes>"
            ]
          },
          "metadata": {
            "tags": []
          }
        },
        {
          "output_type": "display_data",
          "data": {
            "image/png": "[encoded data removed]",
            "text/plain": [
              "<Figure size 432x288 with 1 Axes>"
            ]
          },
          "metadata": {
            "tags": []
          }
        }
      ]
    },
    {
      "cell_type": "markdown",
      "metadata": {
        "id": "PpGOtX6Ad29R",
        "colab_type": "text"
      },
      "source": [
        "draft"
      ]
    },
    {
      "cell_type": "code",
      "metadata": {
        "id": "-kfuysEac-Wm",
        "colab_type": "code",
        "colab": {
          "base_uri": "https://localhost:8080/",
          "height": 135
        },
        "outputId": "1eb9cf55-8f9e-41b1-cf0f-eb4b94707fc3"
      },
      "source": [
        "Qout = []\n",
        "for i in range (len(Tw)):\n",
        "  Qout.append(getHeat(290WP1.getW_flow(), float(Tw[i])))\n",
        "  \n",
        "    getoutHeat(self, qin, cop): \n",
        "  #if ((Tw > float(self.Tw_in)) and (Tw < float(self.Tw_out))):\n",
        "    return ((qin*self.getCOP)/(self.getCOP-1)) #kW\n",
        "  #else:\n",
        "    #return 0 \n",
        "    \n",
        "    \n",
        "    \n",
        "    \n",
        "def getHeat(V, Tw, T0=0):\n",
        "  return V*WaterDensity(Tw)*WaterCp(Tw)*(Tw-T0)/3600 #kW\n",
        "\n",
        "Qu = []\n",
        "for i in range(len(Tw)):\n",
        "  Qu.append(getHeat(WP1.getW_flow(), float(Tw[i])))\n"
      ],
      "execution_count": 10,
      "outputs": [
        {
          "output_type": "error",
          "ename": "SyntaxError",
          "evalue": "ignored",
          "traceback": [
            "\u001b[0;36m  File \u001b[0;32m\"<ipython-input-10-35ae2922bb46>\"\u001b[0;36m, line \u001b[0;32m3\u001b[0m\n\u001b[0;31m    Qout.append(getHeat(290WP1.getW_flow(), float(Tw[i])))\u001b[0m\n\u001b[0m                             ^\u001b[0m\n\u001b[0;31mSyntaxError\u001b[0m\u001b[0;31m:\u001b[0m invalid syntax\n"
          ]
        }
      ]
    },
    {
      "cell_type": "code",
      "metadata": {
        "id": "dQuje0lmJkBE",
        "colab_type": "code",
        "colab": {}
      },
      "source": [
        "#for row in reader:\n",
        "    #print(dict(row))\n",
        "  print(list(reader))"
      ],
      "execution_count": 0,
      "outputs": []
    },
    {
      "cell_type": "markdown",
      "metadata": {
        "id": "O-USp9_YOhZn",
        "colab_type": "text"
      },
      "source": [
        "zu COP:\n",
        "Qout = COP*Qel => Qel = Qout/COP  auch\n",
        "COP = 1 + in/el\n",
        "=> COP = 1+ (in*COP)/out\n",
        "=> COP*out = out + COP*in\n",
        "=> in = out - out/COP => in = out(1-1/COP)\n",
        "\n"
      ]
    },
    {
      "cell_type": "code",
      "metadata": {
        "id": "i5cGkWcALafI",
        "colab_type": "code",
        "colab": {}
      },
      "source": [
        ""
      ],
      "execution_count": 0,
      "outputs": []
    },
    {
      "cell_type": "markdown",
      "metadata": {
        "id": "d-hIGrnJZ82g",
        "colab_type": "text"
      },
      "source": [
        "graph"
      ]
    },
    {
      "cell_type": "code",
      "metadata": {
        "id": "FquGAbKUdfEf",
        "colab_type": "code",
        "colab": {}
      },
      "source": [
        "x = np.arange(9)\n",
        "\n",
        "plt.plot(x, x, \"ro\", x, x**2, \"g^\", x, x**3, \"bs\")\n",
        "plt.xlabel('x')\n",
        "#plt.ylabel('y')\n",
        "plt.axis([0, 10, -1, 150])\n",
        "plt.show()"
      ],
      "execution_count": 0,
      "outputs": []
    },
    {
      "cell_type": "code",
      "metadata": {
        "id": "tpEu73TgadGL",
        "colab_type": "code",
        "colab": {}
      },
      "source": [
        "\n",
        "def Qout(self, Qin, COP):\n",
        "  return (Qin*COP)/(COP - 1)\n",
        "\n",
        "def h_flow(self, Qout, COP):\n",
        "  return Qout/(rho*Cp*(Th-Tw)) # Sebastian fragen\n",
        "\n",
        "def achieved\n",
        "\n",
        "print (\"COP = \", COP, \"-\")\n",
        "print (\"Qout = \", Qout, \"kW\")\n",
        "print (\"Heat flow = \", h_flow, \"m^3/h\")"
      ],
      "execution_count": 0,
      "outputs": []
    }
  ]
}